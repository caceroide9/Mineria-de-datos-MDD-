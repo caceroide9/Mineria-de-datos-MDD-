{
  "nbformat": 4,
  "nbformat_minor": 0,
  "metadata": {
    "accelerator": "TPU",
    "colab": {
      "name": "Proyecto-checkpoint.ipynb",
      "provenance": [],
      "collapsed_sections": []
    },
    "kernelspec": {
      "display_name": "Python 3",
      "language": "python",
      "name": "python3"
    },
    "language_info": {
      "codemirror_mode": {
        "name": "ipython",
        "version": 3
      },
      "file_extension": ".py",
      "mimetype": "text/x-python",
      "name": "python",
      "nbconvert_exporter": "python",
      "pygments_lexer": "ipython3",
      "version": "3.8.3"
    }
  },
  "cells": [
    {
      "cell_type": "code",
      "metadata": {
        "id": "Baj8x1d12yEj"
      },
      "source": [
        "\n",
        "import numpy as np\n",
        "\n",
        "import matplotlib.pyplot as plt \n",
        "\n",
        "import pandas as pd"
      ],
      "execution_count": null,
      "outputs": []
    },
    {
      "cell_type": "code",
      "metadata": {
        "colab": {
          "base_uri": "https://localhost:8080/",
          "height": 35
        },
        "id": "xmwOtfb7zQpo",
        "outputId": "c3bb36c9-debb-4614-ef92-8d9eb1d28006"
      },
      "source": [
        "from google.colab import drive\n",
        "drive.mount('/content/drive/')"
      ],
      "execution_count": null,
      "outputs": [
        {
          "output_type": "stream",
          "text": [
            "Drive already mounted at /content/drive/; to attempt to forcibly remount, call drive.mount(\"/content/drive/\", force_remount=True).\n"
          ],
          "name": "stdout"
        }
      ]
    },
    {
      "cell_type": "code",
      "metadata": {
        "id": "SfcycN54zTYD"
      },
      "source": [
        "ruta = '/content/drive/My Drive/Colab Notebooks/Proyecto Mineria 2020'"
      ],
      "execution_count": null,
      "outputs": []
    },
    {
      "cell_type": "code",
      "metadata": {
        "colab": {
          "base_uri": "https://localhost:8080/",
          "height": 241
        },
        "id": "xA8C912VzUo4",
        "outputId": "a19d7380-0274-4f51-e675-8d4d359903e8"
      },
      "source": [
        "stars = pd.read_csv('%s/pulsar_stars.csv'%ruta)\n",
        "stars.head()"
      ],
      "execution_count": null,
      "outputs": [
        {
          "output_type": "execute_result",
          "data": {
            "text/html": [
              "<div>\n",
              "<style scoped>\n",
              "    .dataframe tbody tr th:only-of-type {\n",
              "        vertical-align: middle;\n",
              "    }\n",
              "\n",
              "    .dataframe tbody tr th {\n",
              "        vertical-align: top;\n",
              "    }\n",
              "\n",
              "    .dataframe thead th {\n",
              "        text-align: right;\n",
              "    }\n",
              "</style>\n",
              "<table border=\"1\" class=\"dataframe\">\n",
              "  <thead>\n",
              "    <tr style=\"text-align: right;\">\n",
              "      <th></th>\n",
              "      <th>Mean of the integrated profile</th>\n",
              "      <th>Standard deviation of the integrated profile</th>\n",
              "      <th>Excess kurtosis of the integrated profile</th>\n",
              "      <th>Skewness of the integrated profile</th>\n",
              "      <th>Mean of the DM-SNR curve</th>\n",
              "      <th>Standard deviation of the DM-SNR curve</th>\n",
              "      <th>Excess kurtosis of the DM-SNR curve</th>\n",
              "      <th>Skewness of the DM-SNR curve</th>\n",
              "      <th>target_class</th>\n",
              "    </tr>\n",
              "  </thead>\n",
              "  <tbody>\n",
              "    <tr>\n",
              "      <th>0</th>\n",
              "      <td>140.562500</td>\n",
              "      <td>55.683782</td>\n",
              "      <td>-0.234571</td>\n",
              "      <td>-0.699648</td>\n",
              "      <td>3.199833</td>\n",
              "      <td>19.110426</td>\n",
              "      <td>7.975532</td>\n",
              "      <td>74.242225</td>\n",
              "      <td>0</td>\n",
              "    </tr>\n",
              "    <tr>\n",
              "      <th>1</th>\n",
              "      <td>102.507812</td>\n",
              "      <td>58.882430</td>\n",
              "      <td>0.465318</td>\n",
              "      <td>-0.515088</td>\n",
              "      <td>1.677258</td>\n",
              "      <td>14.860146</td>\n",
              "      <td>10.576487</td>\n",
              "      <td>127.393580</td>\n",
              "      <td>0</td>\n",
              "    </tr>\n",
              "    <tr>\n",
              "      <th>2</th>\n",
              "      <td>103.015625</td>\n",
              "      <td>39.341649</td>\n",
              "      <td>0.323328</td>\n",
              "      <td>1.051164</td>\n",
              "      <td>3.121237</td>\n",
              "      <td>21.744669</td>\n",
              "      <td>7.735822</td>\n",
              "      <td>63.171909</td>\n",
              "      <td>0</td>\n",
              "    </tr>\n",
              "    <tr>\n",
              "      <th>3</th>\n",
              "      <td>136.750000</td>\n",
              "      <td>57.178449</td>\n",
              "      <td>-0.068415</td>\n",
              "      <td>-0.636238</td>\n",
              "      <td>3.642977</td>\n",
              "      <td>20.959280</td>\n",
              "      <td>6.896499</td>\n",
              "      <td>53.593661</td>\n",
              "      <td>0</td>\n",
              "    </tr>\n",
              "    <tr>\n",
              "      <th>4</th>\n",
              "      <td>88.726562</td>\n",
              "      <td>40.672225</td>\n",
              "      <td>0.600866</td>\n",
              "      <td>1.123492</td>\n",
              "      <td>1.178930</td>\n",
              "      <td>11.468720</td>\n",
              "      <td>14.269573</td>\n",
              "      <td>252.567306</td>\n",
              "      <td>0</td>\n",
              "    </tr>\n",
              "  </tbody>\n",
              "</table>\n",
              "</div>"
            ],
            "text/plain": [
              "    Mean of the integrated profile  ...  target_class\n",
              "0                       140.562500  ...             0\n",
              "1                       102.507812  ...             0\n",
              "2                       103.015625  ...             0\n",
              "3                       136.750000  ...             0\n",
              "4                        88.726562  ...             0\n",
              "\n",
              "[5 rows x 9 columns]"
            ]
          },
          "metadata": {
            "tags": []
          },
          "execution_count": 5
        }
      ]
    },
    {
      "cell_type": "markdown",
      "metadata": {
        "id": "Mq3Vu7nngB2Y"
      },
      "source": [
        "## **6. PREPARACIÓN DE LOS DATOS**"
      ]
    },
    {
      "cell_type": "code",
      "metadata": {
        "colab": {
          "base_uri": "https://localhost:8080/",
          "height": 201
        },
        "id": "bQiDD06wFQEg",
        "outputId": "c53b84c3-ded0-4345-bf7c-36b300a5b9d4"
      },
      "source": [
        "#Tratamiento de valores perdidos\n",
        "stars.isnull().sum()"
      ],
      "execution_count": null,
      "outputs": [
        {
          "output_type": "execute_result",
          "data": {
            "text/plain": [
              " Mean of the integrated profile                  0\n",
              " Standard deviation of the integrated profile    0\n",
              " Excess kurtosis of the integrated profile       0\n",
              " Skewness of the integrated profile              0\n",
              " Mean of the DM-SNR curve                        0\n",
              " Standard deviation of the DM-SNR curve          0\n",
              " Excess kurtosis of the DM-SNR curve             0\n",
              " Skewness of the DM-SNR curve                    0\n",
              "target_class                                     0\n",
              "dtype: int64"
            ]
          },
          "metadata": {
            "tags": []
          },
          "execution_count": 6
        }
      ]
    },
    {
      "cell_type": "code",
      "metadata": {
        "colab": {
          "base_uri": "https://localhost:8080/",
          "height": 352
        },
        "id": "Y1WSEIJnFRxy",
        "outputId": "b85d3960-58a3-4eca-ec20-a6ec29cc881a"
      },
      "source": [
        "# Análisis descriptivo de los datos (General)\n",
        "stars.describe()"
      ],
      "execution_count": null,
      "outputs": [
        {
          "output_type": "execute_result",
          "data": {
            "text/html": [
              "<div>\n",
              "<style scoped>\n",
              "    .dataframe tbody tr th:only-of-type {\n",
              "        vertical-align: middle;\n",
              "    }\n",
              "\n",
              "    .dataframe tbody tr th {\n",
              "        vertical-align: top;\n",
              "    }\n",
              "\n",
              "    .dataframe thead th {\n",
              "        text-align: right;\n",
              "    }\n",
              "</style>\n",
              "<table border=\"1\" class=\"dataframe\">\n",
              "  <thead>\n",
              "    <tr style=\"text-align: right;\">\n",
              "      <th></th>\n",
              "      <th>Mean of the integrated profile</th>\n",
              "      <th>Standard deviation of the integrated profile</th>\n",
              "      <th>Excess kurtosis of the integrated profile</th>\n",
              "      <th>Skewness of the integrated profile</th>\n",
              "      <th>Mean of the DM-SNR curve</th>\n",
              "      <th>Standard deviation of the DM-SNR curve</th>\n",
              "      <th>Excess kurtosis of the DM-SNR curve</th>\n",
              "      <th>Skewness of the DM-SNR curve</th>\n",
              "      <th>target_class</th>\n",
              "    </tr>\n",
              "  </thead>\n",
              "  <tbody>\n",
              "    <tr>\n",
              "      <th>count</th>\n",
              "      <td>17898.000000</td>\n",
              "      <td>17898.000000</td>\n",
              "      <td>17898.000000</td>\n",
              "      <td>17898.000000</td>\n",
              "      <td>17898.000000</td>\n",
              "      <td>17898.000000</td>\n",
              "      <td>17898.000000</td>\n",
              "      <td>17898.000000</td>\n",
              "      <td>17898.000000</td>\n",
              "    </tr>\n",
              "    <tr>\n",
              "      <th>mean</th>\n",
              "      <td>111.079968</td>\n",
              "      <td>46.549532</td>\n",
              "      <td>0.477857</td>\n",
              "      <td>1.770279</td>\n",
              "      <td>12.614400</td>\n",
              "      <td>26.326515</td>\n",
              "      <td>8.303556</td>\n",
              "      <td>104.857709</td>\n",
              "      <td>0.091574</td>\n",
              "    </tr>\n",
              "    <tr>\n",
              "      <th>std</th>\n",
              "      <td>25.652935</td>\n",
              "      <td>6.843189</td>\n",
              "      <td>1.064040</td>\n",
              "      <td>6.167913</td>\n",
              "      <td>29.472897</td>\n",
              "      <td>19.470572</td>\n",
              "      <td>4.506092</td>\n",
              "      <td>106.514540</td>\n",
              "      <td>0.288432</td>\n",
              "    </tr>\n",
              "    <tr>\n",
              "      <th>min</th>\n",
              "      <td>5.812500</td>\n",
              "      <td>24.772042</td>\n",
              "      <td>-1.876011</td>\n",
              "      <td>-1.791886</td>\n",
              "      <td>0.213211</td>\n",
              "      <td>7.370432</td>\n",
              "      <td>-3.139270</td>\n",
              "      <td>-1.976976</td>\n",
              "      <td>0.000000</td>\n",
              "    </tr>\n",
              "    <tr>\n",
              "      <th>25%</th>\n",
              "      <td>100.929688</td>\n",
              "      <td>42.376018</td>\n",
              "      <td>0.027098</td>\n",
              "      <td>-0.188572</td>\n",
              "      <td>1.923077</td>\n",
              "      <td>14.437332</td>\n",
              "      <td>5.781506</td>\n",
              "      <td>34.960504</td>\n",
              "      <td>0.000000</td>\n",
              "    </tr>\n",
              "    <tr>\n",
              "      <th>50%</th>\n",
              "      <td>115.078125</td>\n",
              "      <td>46.947479</td>\n",
              "      <td>0.223240</td>\n",
              "      <td>0.198710</td>\n",
              "      <td>2.801839</td>\n",
              "      <td>18.461316</td>\n",
              "      <td>8.433515</td>\n",
              "      <td>83.064556</td>\n",
              "      <td>0.000000</td>\n",
              "    </tr>\n",
              "    <tr>\n",
              "      <th>75%</th>\n",
              "      <td>127.085938</td>\n",
              "      <td>51.023202</td>\n",
              "      <td>0.473325</td>\n",
              "      <td>0.927783</td>\n",
              "      <td>5.464256</td>\n",
              "      <td>28.428104</td>\n",
              "      <td>10.702959</td>\n",
              "      <td>139.309331</td>\n",
              "      <td>0.000000</td>\n",
              "    </tr>\n",
              "    <tr>\n",
              "      <th>max</th>\n",
              "      <td>192.617188</td>\n",
              "      <td>98.778911</td>\n",
              "      <td>8.069522</td>\n",
              "      <td>68.101622</td>\n",
              "      <td>223.392140</td>\n",
              "      <td>110.642211</td>\n",
              "      <td>34.539844</td>\n",
              "      <td>1191.000837</td>\n",
              "      <td>1.000000</td>\n",
              "    </tr>\n",
              "  </tbody>\n",
              "</table>\n",
              "</div>"
            ],
            "text/plain": [
              "        Mean of the integrated profile  ...  target_class\n",
              "count                     17898.000000  ...  17898.000000\n",
              "mean                        111.079968  ...      0.091574\n",
              "std                          25.652935  ...      0.288432\n",
              "min                           5.812500  ...      0.000000\n",
              "25%                         100.929688  ...      0.000000\n",
              "50%                         115.078125  ...      0.000000\n",
              "75%                         127.085938  ...      0.000000\n",
              "max                         192.617188  ...      1.000000\n",
              "\n",
              "[8 rows x 9 columns]"
            ]
          },
          "metadata": {
            "tags": []
          },
          "execution_count": 7
        }
      ]
    },
    {
      "cell_type": "code",
      "metadata": {
        "colab": {
          "base_uri": "https://localhost:8080/",
          "height": 352
        },
        "id": "xolVTI5YFTE4",
        "outputId": "52e1d499-aa5d-4640-d9ab-e5029c64e015"
      },
      "source": [
        "# Análisis descriptivo de los datos (target_class=0)\n",
        "stars[(stars.target_class == 0)].describe()"
      ],
      "execution_count": null,
      "outputs": [
        {
          "output_type": "execute_result",
          "data": {
            "text/html": [
              "<div>\n",
              "<style scoped>\n",
              "    .dataframe tbody tr th:only-of-type {\n",
              "        vertical-align: middle;\n",
              "    }\n",
              "\n",
              "    .dataframe tbody tr th {\n",
              "        vertical-align: top;\n",
              "    }\n",
              "\n",
              "    .dataframe thead th {\n",
              "        text-align: right;\n",
              "    }\n",
              "</style>\n",
              "<table border=\"1\" class=\"dataframe\">\n",
              "  <thead>\n",
              "    <tr style=\"text-align: right;\">\n",
              "      <th></th>\n",
              "      <th>Mean of the integrated profile</th>\n",
              "      <th>Standard deviation of the integrated profile</th>\n",
              "      <th>Excess kurtosis of the integrated profile</th>\n",
              "      <th>Skewness of the integrated profile</th>\n",
              "      <th>Mean of the DM-SNR curve</th>\n",
              "      <th>Standard deviation of the DM-SNR curve</th>\n",
              "      <th>Excess kurtosis of the DM-SNR curve</th>\n",
              "      <th>Skewness of the DM-SNR curve</th>\n",
              "      <th>target_class</th>\n",
              "    </tr>\n",
              "  </thead>\n",
              "  <tbody>\n",
              "    <tr>\n",
              "      <th>count</th>\n",
              "      <td>16259.000000</td>\n",
              "      <td>16259.000000</td>\n",
              "      <td>16259.000000</td>\n",
              "      <td>16259.000000</td>\n",
              "      <td>16259.000000</td>\n",
              "      <td>16259.000000</td>\n",
              "      <td>16259.000000</td>\n",
              "      <td>16259.000000</td>\n",
              "      <td>16259.0</td>\n",
              "    </tr>\n",
              "    <tr>\n",
              "      <th>mean</th>\n",
              "      <td>116.562726</td>\n",
              "      <td>47.339741</td>\n",
              "      <td>0.210440</td>\n",
              "      <td>0.380844</td>\n",
              "      <td>8.863258</td>\n",
              "      <td>23.287984</td>\n",
              "      <td>8.862674</td>\n",
              "      <td>113.620344</td>\n",
              "      <td>0.0</td>\n",
              "    </tr>\n",
              "    <tr>\n",
              "      <th>std</th>\n",
              "      <td>17.475932</td>\n",
              "      <td>6.182929</td>\n",
              "      <td>0.334606</td>\n",
              "      <td>1.027791</td>\n",
              "      <td>24.411409</td>\n",
              "      <td>16.651426</td>\n",
              "      <td>4.238626</td>\n",
              "      <td>106.721930</td>\n",
              "      <td>0.0</td>\n",
              "    </tr>\n",
              "    <tr>\n",
              "      <th>min</th>\n",
              "      <td>17.210938</td>\n",
              "      <td>28.698714</td>\n",
              "      <td>-1.876011</td>\n",
              "      <td>-1.791886</td>\n",
              "      <td>0.213211</td>\n",
              "      <td>7.370432</td>\n",
              "      <td>-3.139270</td>\n",
              "      <td>-1.976976</td>\n",
              "      <td>0.0</td>\n",
              "    </tr>\n",
              "    <tr>\n",
              "      <th>25%</th>\n",
              "      <td>105.253906</td>\n",
              "      <td>43.384645</td>\n",
              "      <td>0.008650</td>\n",
              "      <td>-0.221980</td>\n",
              "      <td>1.857023</td>\n",
              "      <td>14.138541</td>\n",
              "      <td>6.615374</td>\n",
              "      <td>47.580165</td>\n",
              "      <td>0.0</td>\n",
              "    </tr>\n",
              "    <tr>\n",
              "      <th>50%</th>\n",
              "      <td>117.257812</td>\n",
              "      <td>47.485647</td>\n",
              "      <td>0.186665</td>\n",
              "      <td>0.124107</td>\n",
              "      <td>2.635452</td>\n",
              "      <td>17.618420</td>\n",
              "      <td>8.760010</td>\n",
              "      <td>90.674592</td>\n",
              "      <td>0.0</td>\n",
              "    </tr>\n",
              "    <tr>\n",
              "      <th>75%</th>\n",
              "      <td>128.285156</td>\n",
              "      <td>51.315620</td>\n",
              "      <td>0.392892</td>\n",
              "      <td>0.663383</td>\n",
              "      <td>4.227007</td>\n",
              "      <td>24.517386</td>\n",
              "      <td>10.935207</td>\n",
              "      <td>145.827223</td>\n",
              "      <td>0.0</td>\n",
              "    </tr>\n",
              "    <tr>\n",
              "      <th>max</th>\n",
              "      <td>192.617188</td>\n",
              "      <td>98.778911</td>\n",
              "      <td>4.785786</td>\n",
              "      <td>24.872429</td>\n",
              "      <td>223.392140</td>\n",
              "      <td>110.642211</td>\n",
              "      <td>34.539844</td>\n",
              "      <td>1191.000837</td>\n",
              "      <td>0.0</td>\n",
              "    </tr>\n",
              "  </tbody>\n",
              "</table>\n",
              "</div>"
            ],
            "text/plain": [
              "        Mean of the integrated profile  ...  target_class\n",
              "count                     16259.000000  ...       16259.0\n",
              "mean                        116.562726  ...           0.0\n",
              "std                          17.475932  ...           0.0\n",
              "min                          17.210938  ...           0.0\n",
              "25%                         105.253906  ...           0.0\n",
              "50%                         117.257812  ...           0.0\n",
              "75%                         128.285156  ...           0.0\n",
              "max                         192.617188  ...           0.0\n",
              "\n",
              "[8 rows x 9 columns]"
            ]
          },
          "metadata": {
            "tags": []
          },
          "execution_count": 8
        }
      ]
    },
    {
      "cell_type": "code",
      "metadata": {
        "colab": {
          "base_uri": "https://localhost:8080/",
          "height": 352
        },
        "id": "AKZR51chFUwG",
        "outputId": "88e763df-d327-4f65-cd6a-94e9ac3de39c"
      },
      "source": [
        "# Análisis descriptivo de los datos (target_class=1)\n",
        "stars[(stars.target_class == 1)].describe()"
      ],
      "execution_count": null,
      "outputs": [
        {
          "output_type": "execute_result",
          "data": {
            "text/html": [
              "<div>\n",
              "<style scoped>\n",
              "    .dataframe tbody tr th:only-of-type {\n",
              "        vertical-align: middle;\n",
              "    }\n",
              "\n",
              "    .dataframe tbody tr th {\n",
              "        vertical-align: top;\n",
              "    }\n",
              "\n",
              "    .dataframe thead th {\n",
              "        text-align: right;\n",
              "    }\n",
              "</style>\n",
              "<table border=\"1\" class=\"dataframe\">\n",
              "  <thead>\n",
              "    <tr style=\"text-align: right;\">\n",
              "      <th></th>\n",
              "      <th>Mean of the integrated profile</th>\n",
              "      <th>Standard deviation of the integrated profile</th>\n",
              "      <th>Excess kurtosis of the integrated profile</th>\n",
              "      <th>Skewness of the integrated profile</th>\n",
              "      <th>Mean of the DM-SNR curve</th>\n",
              "      <th>Standard deviation of the DM-SNR curve</th>\n",
              "      <th>Excess kurtosis of the DM-SNR curve</th>\n",
              "      <th>Skewness of the DM-SNR curve</th>\n",
              "      <th>target_class</th>\n",
              "    </tr>\n",
              "  </thead>\n",
              "  <tbody>\n",
              "    <tr>\n",
              "      <th>count</th>\n",
              "      <td>1639.000000</td>\n",
              "      <td>1639.000000</td>\n",
              "      <td>1639.000000</td>\n",
              "      <td>1639.000000</td>\n",
              "      <td>1639.000000</td>\n",
              "      <td>1639.000000</td>\n",
              "      <td>1639.000000</td>\n",
              "      <td>1639.000000</td>\n",
              "      <td>1639.0</td>\n",
              "    </tr>\n",
              "    <tr>\n",
              "      <th>mean</th>\n",
              "      <td>56.690608</td>\n",
              "      <td>38.710598</td>\n",
              "      <td>3.130655</td>\n",
              "      <td>15.553576</td>\n",
              "      <td>49.825995</td>\n",
              "      <td>56.468963</td>\n",
              "      <td>2.757069</td>\n",
              "      <td>17.931728</td>\n",
              "      <td>1.0</td>\n",
              "    </tr>\n",
              "    <tr>\n",
              "      <th>std</th>\n",
              "      <td>30.007707</td>\n",
              "      <td>8.033614</td>\n",
              "      <td>1.872861</td>\n",
              "      <td>13.997200</td>\n",
              "      <td>45.287932</td>\n",
              "      <td>19.731080</td>\n",
              "      <td>3.105945</td>\n",
              "      <td>50.896263</td>\n",
              "      <td>0.0</td>\n",
              "    </tr>\n",
              "    <tr>\n",
              "      <th>min</th>\n",
              "      <td>5.812500</td>\n",
              "      <td>24.772042</td>\n",
              "      <td>-0.094888</td>\n",
              "      <td>-1.139069</td>\n",
              "      <td>0.486622</td>\n",
              "      <td>7.658623</td>\n",
              "      <td>-1.862320</td>\n",
              "      <td>-1.874683</td>\n",
              "      <td>1.0</td>\n",
              "    </tr>\n",
              "    <tr>\n",
              "      <th>25%</th>\n",
              "      <td>31.777344</td>\n",
              "      <td>32.284803</td>\n",
              "      <td>1.556038</td>\n",
              "      <td>3.805492</td>\n",
              "      <td>12.759615</td>\n",
              "      <td>43.333643</td>\n",
              "      <td>0.756451</td>\n",
              "      <td>-0.228294</td>\n",
              "      <td>1.0</td>\n",
              "    </tr>\n",
              "    <tr>\n",
              "      <th>50%</th>\n",
              "      <td>54.296875</td>\n",
              "      <td>37.341297</td>\n",
              "      <td>2.961258</td>\n",
              "      <td>11.609644</td>\n",
              "      <td>33.494983</td>\n",
              "      <td>59.367088</td>\n",
              "      <td>1.918327</td>\n",
              "      <td>2.585145</td>\n",
              "      <td>1.0</td>\n",
              "    </tr>\n",
              "    <tr>\n",
              "      <th>75%</th>\n",
              "      <td>79.277344</td>\n",
              "      <td>43.759278</td>\n",
              "      <td>4.586930</td>\n",
              "      <td>24.881853</td>\n",
              "      <td>78.313545</td>\n",
              "      <td>70.985965</td>\n",
              "      <td>3.709978</td>\n",
              "      <td>13.469687</td>\n",
              "      <td>1.0</td>\n",
              "    </tr>\n",
              "    <tr>\n",
              "      <th>max</th>\n",
              "      <td>139.257812</td>\n",
              "      <td>83.796909</td>\n",
              "      <td>8.069522</td>\n",
              "      <td>68.101622</td>\n",
              "      <td>199.577759</td>\n",
              "      <td>109.655345</td>\n",
              "      <td>30.883882</td>\n",
              "      <td>1017.383180</td>\n",
              "      <td>1.0</td>\n",
              "    </tr>\n",
              "  </tbody>\n",
              "</table>\n",
              "</div>"
            ],
            "text/plain": [
              "        Mean of the integrated profile  ...  target_class\n",
              "count                      1639.000000  ...        1639.0\n",
              "mean                         56.690608  ...           1.0\n",
              "std                          30.007707  ...           0.0\n",
              "min                           5.812500  ...           1.0\n",
              "25%                          31.777344  ...           1.0\n",
              "50%                          54.296875  ...           1.0\n",
              "75%                          79.277344  ...           1.0\n",
              "max                         139.257812  ...           1.0\n",
              "\n",
              "[8 rows x 9 columns]"
            ]
          },
          "metadata": {
            "tags": []
          },
          "execution_count": 9
        }
      ]
    },
    {
      "cell_type": "code",
      "metadata": {
        "colab": {
          "base_uri": "https://localhost:8080/",
          "height": 201
        },
        "id": "Z7xQodb5FWWu",
        "outputId": "41a80b3c-b3d7-435c-cf60-5dbce61681cb"
      },
      "source": [
        "# Transformación de variables.\n",
        "stars.dtypes"
      ],
      "execution_count": null,
      "outputs": [
        {
          "output_type": "execute_result",
          "data": {
            "text/plain": [
              " Mean of the integrated profile                  float64\n",
              " Standard deviation of the integrated profile    float64\n",
              " Excess kurtosis of the integrated profile       float64\n",
              " Skewness of the integrated profile              float64\n",
              " Mean of the DM-SNR curve                        float64\n",
              " Standard deviation of the DM-SNR curve          float64\n",
              " Excess kurtosis of the DM-SNR curve             float64\n",
              " Skewness of the DM-SNR curve                    float64\n",
              "target_class                                       int64\n",
              "dtype: object"
            ]
          },
          "metadata": {
            "tags": []
          },
          "execution_count": 10
        }
      ]
    },
    {
      "cell_type": "markdown",
      "metadata": {
        "id": "lqBn9F6-FYUC"
      },
      "source": [
        "## **7. MODELADO Y EVALUACIÓN**"
      ]
    },
    {
      "cell_type": "markdown",
      "metadata": {
        "id": "X7kXxLrUFah4"
      },
      "source": [
        "### ***7.1 MODELADO***"
      ]
    },
    {
      "cell_type": "code",
      "metadata": {
        "id": "cTaQkfJC06-G"
      },
      "source": [
        "import numpy as np\n",
        "import matplotlib.pyplot as plt\n",
        "\n",
        "from sklearn import svm, datasets\n",
        "from sklearn.model_selection import train_test_split\n",
        "from sklearn.metrics import plot_confusion_matrix\n",
        "\n",
        "# Separamos en dos variables (X e Y)\n",
        "X = stars.drop('target_class', axis='columns')\n",
        "Y = stars.target_class\n",
        "\n",
        "\n",
        "# Separando los datos en sets de entrenamiento y evaluación\n",
        "X_train, X_test, y_train, y_test = train_test_split(X, Y, test_size = 0.2)\n",
        "\n"
      ],
      "execution_count": null,
      "outputs": []
    },
    {
      "cell_type": "markdown",
      "metadata": {
        "id": "IzqVxUhzFf8L"
      },
      "source": [
        "### **Árboles de Decisión** -  *Criterio Gini*"
      ]
    },
    {
      "cell_type": "code",
      "metadata": {
        "colab": {
          "base_uri": "https://localhost:8080/",
          "height": 35
        },
        "id": "_9VBuecf1yiq",
        "outputId": "61e71c9c-ea67-4025-8838-ce7b63c386f9"
      },
      "source": [
        "# Importando el arbol de decisión\n",
        "from sklearn.tree import DecisionTreeClassifier\n",
        "from sklearn import tree\n",
        "\n",
        "# https://scikit-learn.org/stable/modules/generated/sklearn.tree.DecisionTreeClassifier.html\n",
        "\n",
        "# Creando el modelo con criterio 'gini'\n",
        "arbolGini = DecisionTreeClassifier(criterion='gini') \n",
        "\n",
        "# Ajustando el modelo\n",
        "arbolGini.fit(X_train, y_train)\n",
        "\n",
        "print('Precisión modelo inicial train/test  {0:.6f}/{1:.6f}'\n",
        "      .format(arbolGini.score(X_train, y_train), arbolGini.score(X_test, y_test)))"
      ],
      "execution_count": null,
      "outputs": [
        {
          "output_type": "stream",
          "text": [
            "Precisión modelo inicial train/test  1.000000/0.968156\n"
          ],
          "name": "stdout"
        }
      ]
    },
    {
      "cell_type": "code",
      "metadata": {
        "colab": {
          "base_uri": "https://localhost:8080/",
          "height": 54
        },
        "id": "tyk_ufvX1oJx",
        "outputId": "d8aae36b-2611-4699-cca6-bb219842f84f"
      },
      "source": [
        "from sklearn.metrics import confusion_matrix\n",
        "\n",
        "y_predicted_arbolGini = arbolGini.predict(X_test)\n",
        "matrizC = confusion_matrix(y_test, y_predicted_arbolGini)\n",
        "matrizC"
      ],
      "execution_count": null,
      "outputs": [
        {
          "output_type": "execute_result",
          "data": {
            "text/plain": [
              "array([[3214,   60],\n",
              "       [  54,  252]])"
            ]
          },
          "metadata": {
            "tags": []
          },
          "execution_count": 83
        }
      ]
    },
    {
      "cell_type": "code",
      "metadata": {
        "colab": {
          "base_uri": "https://localhost:8080/",
          "height": 460
        },
        "id": "ZydKdfN61p05",
        "outputId": "423c1247-f3af-4e69-8adf-f36286f4840a"
      },
      "source": [
        "import seaborn as sns\n",
        "\n",
        "%matplotlib inline\n",
        "plt.figure(figsize=(10,7))\n",
        "sns.heatmap(matrizC, annot=True, cmap=\"YlGnBu\")\n",
        "plt.xlabel('Predicted')\n",
        "plt.ylabel('Truth')"
      ],
      "execution_count": null,
      "outputs": [
        {
          "output_type": "execute_result",
          "data": {
            "text/plain": [
              "Text(69.0, 0.5, 'Truth')"
            ]
          },
          "metadata": {
            "tags": []
          },
          "execution_count": 84
        },
        {
          "output_type": "display_data",
          "data": {
            "image/png": "[encoded data removed]",
            "text/plain": [
              "<Figure size 720x504 with 2 Axes>"
            ]
          },
          "metadata": {
            "tags": [],
            "needs_background": "light"
          }
        }
      ]
    },
    {
      "cell_type": "code",
      "metadata": {
        "colab": {
          "base_uri": "https://localhost:8080/",
          "height": 279
        },
        "id": "PYboOFWx1roV",
        "outputId": "bec2c2d4-d2f4-4e6c-81ef-9dac8ab7113d"
      },
      "source": [
        "caract = X.shape[1]\n",
        "plt.barh(range(caract), arbolGini.feature_importances_)\n",
        "plt.yticks(np.arange(caract), X.columns.values)\n",
        "plt.xlabel('Importancia')\n",
        "plt.ylabel('Caracteristicas')\n",
        "plt.show()"
      ],
      "execution_count": null,
      "outputs": [
        {
          "output_type": "display_data",
          "data": {
            "image/png": "[encoded data removed]",
            "text/plain": [
              "<Figure size 432x288 with 1 Axes>"
            ]
          },
          "metadata": {
            "tags": [],
            "needs_background": "light"
          }
        }
      ]
    },
    {
      "cell_type": "markdown",
      "metadata": {
        "id": "dnwqB0wZFvKn"
      },
      "source": [
        "### **Árboles de Decisión** -  *Criterio Entropy*"
      ]
    },
    {
      "cell_type": "code",
      "metadata": {
        "colab": {
          "base_uri": "https://localhost:8080/",
          "height": 35
        },
        "id": "ryZQ3P8yFxmN",
        "outputId": "6401f208-14a0-498d-9e7e-565b46201f5d"
      },
      "source": [
        "# Creando el modelo con criterio 'Entropy'\n",
        "arbolEntropy = DecisionTreeClassifier(criterion='entropy') \n",
        "# Ajustando el modelo\n",
        "arbolEntropy.fit(X_train, y_train) \n",
        "print('Precisión modelo inicial train/test  {0:.6f}/{1:.6f}'\n",
        "      .format(arbolEntropy.score(X_train, y_train), arbolEntropy.score(X_test, y_test)))"
      ],
      "execution_count": null,
      "outputs": [
        {
          "output_type": "stream",
          "text": [
            "Precisión modelo inicial train/test  1.000000/0.968715\n"
          ],
          "name": "stdout"
        }
      ]
    },
    {
      "cell_type": "code",
      "metadata": {
        "colab": {
          "base_uri": "https://localhost:8080/",
          "height": 54
        },
        "id": "8A4J0ym1Fymu",
        "outputId": "ff42f518-09cb-4bd4-d57f-0d206a25e35f"
      },
      "source": [
        "y_predicted_arbolEntropy = arbolEntropy.predict(X_test)\n",
        "matrizC = confusion_matrix(y_test, y_predicted_arbolEntropy)\n",
        "matrizC"
      ],
      "execution_count": null,
      "outputs": [
        {
          "output_type": "execute_result",
          "data": {
            "text/plain": [
              "array([[3217,   57],\n",
              "       [  55,  251]])"
            ]
          },
          "metadata": {
            "tags": []
          },
          "execution_count": 87
        }
      ]
    },
    {
      "cell_type": "code",
      "metadata": {
        "colab": {
          "base_uri": "https://localhost:8080/",
          "height": 460
        },
        "id": "ZjTEklYOFznh",
        "outputId": "1befc02a-0524-4087-fbe2-2f3191fbbf45"
      },
      "source": [
        "%matplotlib inline\n",
        "plt.figure(figsize=(10,7))\n",
        "sns.heatmap(matrizC, annot=True, cmap=\"YlGnBu\")\n",
        "plt.xlabel('Predicted')\n",
        "plt.ylabel('Truth')"
      ],
      "execution_count": null,
      "outputs": [
        {
          "output_type": "execute_result",
          "data": {
            "text/plain": [
              "Text(69.0, 0.5, 'Truth')"
            ]
          },
          "metadata": {
            "tags": []
          },
          "execution_count": 88
        },
        {
          "output_type": "display_data",
          "data": {
            "image/png": "[encoded data removed]",
            "text/plain": [
              "<Figure size 720x504 with 2 Axes>"
            ]
          },
          "metadata": {
            "tags": [],
            "needs_background": "light"
          }
        }
      ]
    },
    {
      "cell_type": "code",
      "metadata": {
        "colab": {
          "base_uri": "https://localhost:8080/",
          "height": 279
        },
        "id": "-eqi7EHsF00D",
        "outputId": "0680b44e-328c-43b8-ea66-b92308d3bf91"
      },
      "source": [
        "caract = X.shape[1]\n",
        "plt.barh(range(caract), arbolEntropy.feature_importances_)\n",
        "plt.yticks(np.arange(caract), X.columns.values)\n",
        "plt.xlabel('Importancia')\n",
        "plt.ylabel('Caracteristicas')\n",
        "plt.show()"
      ],
      "execution_count": null,
      "outputs": [
        {
          "output_type": "display_data",
          "data": {
            "image/png": "[encoded data removed]",
            "text/plain": [
              "<Figure size 432x288 with 1 Axes>"
            ]
          },
          "metadata": {
            "tags": [],
            "needs_background": "light"
          }
        }
      ]
    },
    {
      "cell_type": "markdown",
      "metadata": {
        "id": "cytgosd3Gsqp"
      },
      "source": [
        "### **Random Forest**"
      ]
    },
    {
      "cell_type": "code",
      "metadata": {
        "colab": {
          "base_uri": "https://localhost:8080/",
          "height": 164
        },
        "id": "O3NNa6PgSkj1",
        "outputId": "317275b8-ebaa-4575-fb64-2dd8359d0bb5"
      },
      "source": [
        "# Importando el random forest\n",
        "from sklearn.ensemble import RandomForestClassifier\n",
        "\n",
        "randomForest = RandomForestClassifier() # Creando el modelo\n",
        "randomForest.fit(X_train, y_train) # Ajustando el modelo"
      ],
      "execution_count": null,
      "outputs": [
        {
          "output_type": "execute_result",
          "data": {
            "text/plain": [
              "RandomForestClassifier(bootstrap=True, ccp_alpha=0.0, class_weight=None,\n",
              "                       criterion='gini', max_depth=None, max_features='auto',\n",
              "                       max_leaf_nodes=None, max_samples=None,\n",
              "                       min_impurity_decrease=0.0, min_impurity_split=None,\n",
              "                       min_samples_leaf=1, min_samples_split=2,\n",
              "                       min_weight_fraction_leaf=0.0, n_estimators=100,\n",
              "                       n_jobs=None, oob_score=False, random_state=None,\n",
              "                       verbose=0, warm_start=False)"
            ]
          },
          "metadata": {
            "tags": []
          },
          "execution_count": 20
        }
      ]
    },
    {
      "cell_type": "code",
      "metadata": {
        "colab": {
          "base_uri": "https://localhost:8080/",
          "height": 35
        },
        "id": "33uQrPqqVFqb",
        "outputId": "c48aec07-e3a2-4d1a-84d7-9d1d1e854a41"
      },
      "source": [
        "print('Precisión modelo inicial train/test  {0:.6f}/{1:.6f}'\n",
        "      .format(randomForest.score(X_train, y_train), randomForest.score(X_test, y_test)))"
      ],
      "execution_count": null,
      "outputs": [
        {
          "output_type": "stream",
          "text": [
            "Precisión modelo inicial train/test  0.999930/0.979609\n"
          ],
          "name": "stdout"
        }
      ]
    },
    {
      "cell_type": "code",
      "metadata": {
        "colab": {
          "base_uri": "https://localhost:8080/",
          "height": 54
        },
        "id": "lsMlE0agKArb",
        "outputId": "72f5f7ef-4fe8-4db8-e646-8735caf6c16f"
      },
      "source": [
        "y_predicted_randomForest = randomForest.predict(X_test)\n",
        "matrizC = confusion_matrix(y_test, y_predicted_randomForest)\n",
        "matrizC"
      ],
      "execution_count": null,
      "outputs": [
        {
          "output_type": "execute_result",
          "data": {
            "text/plain": [
              "array([[3253,   21],\n",
              "       [  52,  254]])"
            ]
          },
          "metadata": {
            "tags": []
          },
          "execution_count": 24
        }
      ]
    },
    {
      "cell_type": "code",
      "metadata": {
        "colab": {
          "base_uri": "https://localhost:8080/",
          "height": 460
        },
        "id": "Mx01IW_7iPWE",
        "outputId": "daf62f4a-a345-4487-d099-15b815cd1dff"
      },
      "source": [
        "%matplotlib inline\n",
        "plt.figure(figsize=(10,7))\n",
        "sns.heatmap(matrizC, annot=True, cmap=\"YlGnBu\")\n",
        "plt.xlabel('Predicted')\n",
        "plt.ylabel('Truth')"
      ],
      "execution_count": null,
      "outputs": [
        {
          "output_type": "execute_result",
          "data": {
            "text/plain": [
              "Text(69.0, 0.5, 'Truth')"
            ]
          },
          "metadata": {
            "tags": []
          },
          "execution_count": 25
        },
        {
          "output_type": "display_data",
          "data": {
            "image/png": "[encoded data removed]",
            "text/plain": [
              "<Figure size 720x504 with 2 Axes>"
            ]
          },
          "metadata": {
            "tags": [],
            "needs_background": "light"
          }
        }
      ]
    },
    {
      "cell_type": "code",
      "metadata": {
        "colab": {
          "base_uri": "https://localhost:8080/",
          "height": 279
        },
        "id": "vaUkoRpepqJu",
        "outputId": "7871644b-8846-4db5-87a1-b74dcf1fb796"
      },
      "source": [
        "caract = X.shape[1]\n",
        "plt.barh(range(caract), randomForest.feature_importances_)\n",
        "plt.yticks(np.arange(caract), X.columns.values)\n",
        "plt.xlabel('Importancia')\n",
        "plt.ylabel('Caracteristicas')\n",
        "plt.show()"
      ],
      "execution_count": null,
      "outputs": [
        {
          "output_type": "display_data",
          "data": {
            "image/png": "[encoded data removed]",
            "text/plain": [
              "<Figure size 432x288 with 1 Axes>"
            ]
          },
          "metadata": {
            "tags": [],
            "needs_background": "light"
          }
        }
      ]
    },
    {
      "cell_type": "markdown",
      "metadata": {
        "id": "J65zbpdjKLn1"
      },
      "source": [
        "### **AdaBoost**"
      ]
    },
    {
      "cell_type": "code",
      "metadata": {
        "id": "M_1bYXluKLn5"
      },
      "source": [
        "# Importando adaBoost\n",
        "from sklearn.ensemble import AdaBoostClassifier\n",
        "from sklearn.datasets import make_classification\n",
        "\n",
        "# Utilizando AdaBoost\n",
        "adaBoost = AdaBoostClassifier(n_estimators=500, \n",
        "                              learning_rate=1.5)\n",
        "# Ajustando los datos\n",
        "adaBoost = adaBoost.fit(X_train, y_train)"
      ],
      "execution_count": null,
      "outputs": []
    },
    {
      "cell_type": "code",
      "metadata": {
        "colab": {
          "base_uri": "https://localhost:8080/",
          "height": 35
        },
        "id": "yuyRb8n_KLoH",
        "outputId": "c2bea352-1164-4a62-a187-75686d30916f"
      },
      "source": [
        "print('Precisión modelo inicial train/test  {0:.6f}/{1:.6f}'\n",
        "      .format(adaBoost.score(X_train, y_train), adaBoost.score(X_test, y_test)))"
      ],
      "execution_count": null,
      "outputs": [
        {
          "output_type": "stream",
          "text": [
            "Precisión modelo inicial train/test  0.985613/0.979050\n"
          ],
          "name": "stdout"
        }
      ]
    },
    {
      "cell_type": "code",
      "metadata": {
        "colab": {
          "base_uri": "https://localhost:8080/",
          "height": 54
        },
        "id": "vlhICZ7jKOJd",
        "outputId": "d5a4d990-a5e2-486d-82f2-6a7aac9dbe71"
      },
      "source": [
        "y_predicted_adaBoost = adaBoost.predict(X_test)\n",
        "matrizC = confusion_matrix(y_test, y_predicted_adaBoost)\n",
        "matrizC"
      ],
      "execution_count": null,
      "outputs": [
        {
          "output_type": "execute_result",
          "data": {
            "text/plain": [
              "array([[3253,   21],\n",
              "       [  54,  252]])"
            ]
          },
          "metadata": {
            "tags": []
          },
          "execution_count": 29
        }
      ]
    },
    {
      "cell_type": "code",
      "metadata": {
        "colab": {
          "base_uri": "https://localhost:8080/",
          "height": 460
        },
        "id": "VeULlznWKLoQ",
        "outputId": "d60bd462-c016-492d-f74b-77e5730e2428"
      },
      "source": [
        "%matplotlib inline\n",
        "plt.figure(figsize=(10,7))\n",
        "sns.heatmap(matrizC, annot=True, cmap=\"YlGnBu\")\n",
        "plt.xlabel('Predicted')\n",
        "plt.ylabel('Truth')"
      ],
      "execution_count": null,
      "outputs": [
        {
          "output_type": "execute_result",
          "data": {
            "text/plain": [
              "Text(69.0, 0.5, 'Truth')"
            ]
          },
          "metadata": {
            "tags": []
          },
          "execution_count": 32
        },
        {
          "output_type": "display_data",
          "data": {
            "image/png": "[encoded data removed]",
            "text/plain": [
              "<Figure size 720x504 with 2 Axes>"
            ]
          },
          "metadata": {
            "tags": [],
            "needs_background": "light"
          }
        }
      ]
    },
    {
      "cell_type": "code",
      "metadata": {
        "colab": {
          "base_uri": "https://localhost:8080/",
          "height": 279
        },
        "id": "QT0auO0FKLoY",
        "outputId": "94066186-5235-4caf-cc4c-9052b3d17bc6"
      },
      "source": [
        "caract = X.shape[1]\n",
        "plt.barh(range(caract), adaBoost.feature_importances_)\n",
        "plt.yticks(np.arange(caract), X.columns.values)\n",
        "plt.xlabel('Importancia')\n",
        "plt.ylabel('Caracteristicas')\n",
        "plt.show()"
      ],
      "execution_count": null,
      "outputs": [
        {
          "output_type": "display_data",
          "data": {
            "image/png": "[encoded data removed]",
            "text/plain": [
              "<Figure size 432x288 with 1 Axes>"
            ]
          },
          "metadata": {
            "tags": [],
            "needs_background": "light"
          }
        }
      ]
    },
    {
      "cell_type": "markdown",
      "metadata": {
        "id": "nd8ak05WdLlx"
      },
      "source": [
        "### **Gaussian Naive Bayes**"
      ]
    },
    {
      "cell_type": "code",
      "metadata": {
        "colab": {
          "base_uri": "https://localhost:8080/",
          "height": 35
        },
        "id": "jyLFQU81dQEs",
        "outputId": "d12d9e64-b551-4225-b1e1-0c344ebcefa3"
      },
      "source": [
        "# https://scikit-learn.org/stable/modules/generated/sklearn.naive_bayes.GaussianNB.html?highlight=gaussiannb#sklearn.naive_bayes.GaussianNB\n",
        "\n",
        "from sklearn.naive_bayes import GaussianNB\n",
        "\n",
        "gNaiveBayes = GaussianNB()\n",
        "gNaiveBayes.fit(X_train, y_train)"
      ],
      "execution_count": null,
      "outputs": [
        {
          "output_type": "execute_result",
          "data": {
            "text/plain": [
              "GaussianNB(priors=None, var_smoothing=1e-09)"
            ]
          },
          "metadata": {
            "tags": []
          },
          "execution_count": 77
        }
      ]
    },
    {
      "cell_type": "code",
      "metadata": {
        "colab": {
          "base_uri": "https://localhost:8080/",
          "height": 35
        },
        "id": "AX9iv0CqWCLH",
        "outputId": "b821b550-9796-4f92-c9e5-60261951e7a1"
      },
      "source": [
        "print('Precisión modelo inicial train/test  {0:.6f}/{1:.6f}'\n",
        "      .format(gNaiveBayes.score(X_train, y_train), gNaiveBayes.score(X_test, y_test)))"
      ],
      "execution_count": null,
      "outputs": [
        {
          "output_type": "stream",
          "text": [
            "Precisión modelo inicial train/test  0.945314/0.947765\n"
          ],
          "name": "stdout"
        }
      ]
    },
    {
      "cell_type": "code",
      "metadata": {
        "colab": {
          "base_uri": "https://localhost:8080/",
          "height": 54
        },
        "id": "_0TR5Q9Edj2u",
        "outputId": "0ccc937b-145d-4883-92e7-a65978d35dac"
      },
      "source": [
        "#Matriz de Confusión\n",
        "y_predicted_gNaiveBayes = gNaiveBayes.predict(X_test)\n",
        "matrizC = confusion_matrix(y_test, y_predicted_gNaiveBayes)\n",
        "matrizC"
      ],
      "execution_count": null,
      "outputs": [
        {
          "output_type": "execute_result",
          "data": {
            "text/plain": [
              "array([[3140,  134],\n",
              "       [  53,  253]])"
            ]
          },
          "metadata": {
            "tags": []
          },
          "execution_count": 79
        }
      ]
    },
    {
      "cell_type": "code",
      "metadata": {
        "colab": {
          "base_uri": "https://localhost:8080/",
          "height": 460
        },
        "id": "9PVEofx_iTSh",
        "outputId": "3cdd16ce-8e6c-4459-8dcf-102daa0f6ef8"
      },
      "source": [
        "%matplotlib inline\n",
        "plt.figure(figsize=(10,7))\n",
        "sns.heatmap(matrizC, annot=True, cmap=\"YlGnBu\")\n",
        "plt.xlabel('Predicted')\n",
        "plt.ylabel('Truth')"
      ],
      "execution_count": null,
      "outputs": [
        {
          "output_type": "execute_result",
          "data": {
            "text/plain": [
              "Text(69.0, 0.5, 'Truth')"
            ]
          },
          "metadata": {
            "tags": []
          },
          "execution_count": 80
        },
        {
          "output_type": "display_data",
          "data": {
            "image/png": "[encoded data removed]",
            "text/plain": [
              "<Figure size 720x504 with 2 Axes>"
            ]
          },
          "metadata": {
            "tags": [],
            "needs_background": "light"
          }
        }
      ]
    },
    {
      "cell_type": "markdown",
      "metadata": {
        "id": "nNVpiS_mWd6f"
      },
      "source": [
        "### ***7.2 EVALUACIÓN***"
      ]
    },
    {
      "cell_type": "code",
      "metadata": {
        "colab": {
          "base_uri": "https://localhost:8080/",
          "height": 35
        },
        "id": "_ZYeG2znWg7l",
        "outputId": "c2b7874c-f2a1-49f9-ea7a-fddecdcbd15b"
      },
      "source": [
        "from sklearn.model_selection import cross_val_score\n",
        "\n",
        "score_arbolGini = cross_val_score(arbolGini, X, Y, cv=100)\n",
        "scoreFinal_arbolGini = score_arbolGini.mean()*100\n",
        "print(scoreFinal_arbolGini)"
      ],
      "execution_count": null,
      "outputs": [
        {
          "output_type": "stream",
          "text": [
            "96.77035339903334\n"
          ],
          "name": "stdout"
        }
      ]
    },
    {
      "cell_type": "code",
      "metadata": {
        "colab": {
          "base_uri": "https://localhost:8080/",
          "height": 35
        },
        "id": "JqKxxyE0cPoB",
        "outputId": "3cf11c58-140a-4bc7-e362-9fe85d42d1f8"
      },
      "source": [
        "score_arbolEntropy = cross_val_score(arbolEntropy, X, Y, cv=100)\n",
        "scoreFinal_arbolEntropy = score_arbolEntropy.mean()*100\n",
        "print(scoreFinal_arbolEntropy)"
      ],
      "execution_count": null,
      "outputs": [
        {
          "output_type": "stream",
          "text": [
            "96.8765614211286\n"
          ],
          "name": "stdout"
        }
      ]
    },
    {
      "cell_type": "code",
      "metadata": {
        "colab": {
          "base_uri": "https://localhost:8080/",
          "height": 35
        },
        "id": "XMPDrfZRcRKe",
        "outputId": "859ddda2-e71c-4494-d04e-1236d311e8d5"
      },
      "source": [
        "score_randomForest = cross_val_score(randomForest, X, Y, cv=100)\n",
        "scoreFinal_randomForest = score_randomForest.mean()*100\n",
        "print(scoreFinal_randomForest)\n"
      ],
      "execution_count": null,
      "outputs": [
        {
          "output_type": "stream",
          "text": [
            "97.9771200803465\n"
          ],
          "name": "stdout"
        }
      ]
    },
    {
      "cell_type": "code",
      "metadata": {
        "colab": {
          "base_uri": "https://localhost:8080/",
          "height": 35
        },
        "id": "Rs7ok_igcSLQ",
        "outputId": "2f203f0b-95e4-417b-ca17-4fc6a0e09b96"
      },
      "source": [
        "score_adaBoost = cross_val_score(adaBoost, X, Y, cv=100)\n",
        "scoreFinal_adaBoost = score_adaBoost.mean()*100\n",
        "print(scoreFinal_adaBoost)\n"
      ],
      "execution_count": null,
      "outputs": [
        {
          "output_type": "stream",
          "text": [
            "97.80955370033269\n"
          ],
          "name": "stdout"
        }
      ]
    },
    {
      "cell_type": "code",
      "metadata": {
        "colab": {
          "base_uri": "https://localhost:8080/",
          "height": 35
        },
        "id": "Pm4RRWudcTDB",
        "outputId": "3cd63f14-2fad-4374-d184-683b1607288f"
      },
      "source": [
        "score_gNaiveBayes = cross_val_score(gNaiveBayes, X, Y, cv=100)\n",
        "scoreFinal_gNaiveBayes = score_gNaiveBayes.mean()*100\n",
        "print(scoreFinal_gNaiveBayes)"
      ],
      "execution_count": null,
      "outputs": [
        {
          "output_type": "stream",
          "text": [
            "94.5023225158496\n"
          ],
          "name": "stdout"
        }
      ]
    },
    {
      "cell_type": "code",
      "metadata": {
        "colab": {
          "base_uri": "https://localhost:8080/",
          "height": 279
        },
        "id": "ZYYgbi4PfEj6",
        "outputId": "fc7d3e02-98c2-442a-c339-48778c2d8a0b"
      },
      "source": [
        "import matplotlib.pyplot as plt\n",
        "\n",
        "nombres = ['Arbol Gini','Arbol Entropy','Gaussian Naive Bayes','Random Forest','AdaBoost']\n",
        "datos = [scoreFinal_arbolGini,scoreFinal_arbolEntropy,scoreFinal_gNaiveBayes,scoreFinal_randomForest,scoreFinal_adaBoost]\n",
        "xx = range(len(datos))\n",
        "\n",
        "plt.barh(xx, datos)\n",
        "plt.yticks(xx, nombres)\n",
        "plt.xlabel('Porcentaje \"Score Final\"')\n",
        "plt.ylabel('Nombre de modelos')\n",
        "plt.show()"
      ],
      "execution_count": null,
      "outputs": [
        {
          "output_type": "display_data",
          "data": {
            "image/png": "[encoded data removed]",
            "text/plain": [
              "<Figure size 432x288 with 1 Axes>"
            ]
          },
          "metadata": {
            "tags": [],
            "needs_background": "light"
          }
        }
      ]
    }
  ]
}