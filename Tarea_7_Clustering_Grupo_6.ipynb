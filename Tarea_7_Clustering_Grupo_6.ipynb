{
  "nbformat": 4,
  "nbformat_minor": 0,
  "metadata": {
    "colab": {
      "name": "Tarea 7 Clustering Grupo 6.ipynb",
      "provenance": []
    },
    "kernelspec": {
      "name": "python3",
      "display_name": "Python 3"
    },
    "language_info": {
      "name": "python"
    }
  },
  "cells": [
    {
      "cell_type": "markdown",
      "metadata": {
        "id": "4befndY5wB-3"
      },
      "source": [
        "# **Tarea 7 : Clustering**\n",
        "\n",
        "* Shu-yi Wong Baxter\n",
        "* Sebastian Perez Berrios\n",
        "* Mathias Cáceres Bustamante"
      ]
    },
    {
      "cell_type": "code",
      "metadata": {
        "id": "3GSwpokewcHH"
      },
      "source": [
        "import csv\n",
        "import pandas as pd\n",
        "import numpy as np\n",
        "import sklearn\n",
        "import matplotlib.pyplot as plt\n",
        "from sklearn import cluster\n",
        "from scipy.spatial.distance import cdist\n",
        "from scipy.cluster.hierarchy import dendrogram, linkage  \n",
        "%matplotlib inline"
      ],
      "execution_count": 4,
      "outputs": []
    },
    {
      "cell_type": "code",
      "metadata": {
        "colab": {
          "base_uri": "https://localhost:8080/"
        },
        "id": "yuAX8Wo8w5bi",
        "outputId": "8d322b90-8010-4561-efa1-6277d963634a"
      },
      "source": [
        "from google.colab import drive\n",
        "drive.mount('/content/drive/')\n",
        "path = '/content/drive/My Drive/Mineria de datos(Modelo)'"
      ],
      "execution_count": 2,
      "outputs": [
        {
          "output_type": "stream",
          "text": [
            "Mounted at /content/drive/\n"
          ],
          "name": "stdout"
        }
      ]
    },
    {
      "cell_type": "code",
      "metadata": {
        "id": "fa23-sbIw6hJ"
      },
      "source": [
        "datos=pd.read_csv(\"/content/drive/My Drive/Mineria de datos(Modelo)/avance 5.5.csv\", sep=';')"
      ],
      "execution_count": 5,
      "outputs": []
    },
    {
      "cell_type": "code",
      "metadata": {
        "id": "-R1ZtQUUxD7x"
      },
      "source": [
        "#Elimina los nulos de date que son pocos y eso hace que se eliminen los nulos pequeños que\n",
        "# estan en la misma fila y quedan las columnas que se usaran sin nulos\n",
        "datos.drop(datos[datos.date.isnull()].index, inplace = True) #Ojo aqui, el inplace true los elimina del dataset original, no hace una copia"
      ],
      "execution_count": 7,
      "outputs": []
    },
    {
      "cell_type": "code",
      "metadata": {
        "id": "khE-yK4bxFCn"
      },
      "source": [
        "#Crea la columna heridos que es el target, junta los valores de n_killed y n_injured\n",
        "datos.loc[(datos.n_killed==0.0)&(datos.n_injured==0.0) ,'heridos']=0;\n",
        "datos.loc[(datos.n_killed>=1.0)&(datos.n_injured==0.0) ,'heridos']=1;\n",
        "datos.loc[(datos.n_killed==0.0)&(datos.n_injured>=1.0) ,'heridos']=1;\n",
        "datos.loc[(datos.n_killed>=1.0)&(datos.n_injured>=1.0) ,'heridos']=1;"
      ],
      "execution_count": 8,
      "outputs": []
    },
    {
      "cell_type": "code",
      "metadata": {
        "id": "ZHkLRTCZxGgh"
      },
      "source": [
        "datos.loc[(datos.state==7.0)|(datos.state==9.0)|(datos.state==12.0)|(datos.state==15.0)|(datos.state==18.0)|(datos.state==23.0)|(datos.state==24.0)|(datos.state==25.0)|(datos.state==33.0)|(datos.state==35.0)|(datos.state==41.0)|(datos.state==45.0)|(datos.state==47.0),'state2']=0;\n",
        "datos.loc[(datos.state==3.0)|(datos.state==8.0)|(datos.state==16.0)|(datos.state==20.0)|(datos.state==26.0)|(datos.state==27.0)|(datos.state==31.0)|(datos.state==32.0)|(datos.state==39.0)|(datos.state==44.0)|(datos.state==50.0),'state2']=1;\n",
        "datos.loc[(datos.state==0.0)|(datos.state==1.0)|(datos.state==4.0)|(datos.state==6.0)|(datos.state==10.0)|(datos.state==11.0)|(datos.state==13.0)|(datos.state==14.0)|(datos.state==17.0)|(datos.state==19.0)|(datos.state==21.0)|(datos.state==22.0)|(datos.state==28.0)|(datos.state==29.0)|(datos.state==34.0)|(datos.state==37.0)|(datos.state==38.0)|(datos.state==40.0)|(datos.state==42.0)|(datos.state==46.0)|(datos.state==48.0)|(datos.state==49.0),'state2']=2;\n",
        "datos.loc[(datos.state==2.0)|(datos.state==5.0)|(datos.state==30.0)|(datos.state==36.0)|(datos.state==43.0) ,'state2']=3;"
      ],
      "execution_count": 9,
      "outputs": []
    },
    {
      "cell_type": "code",
      "metadata": {
        "id": "nkr8SdihxJi2"
      },
      "source": [
        "datos2 = datos.drop_duplicates()\n",
        "datos2 = datos.drop(['incident_id','date','address','incident_characteristics','location_description','latitude','longitude','notes','city_or_county','congressional_district','n_killed','n_injured','state'], axis=1) #Eliminar columnas correlacionales a global_sales\n",
        "datos2.loc[(datos2.avg_age>=0.0)&(datos2.avg_age<18.0) ,'avg_age']=0;\n",
        "datos2.loc[(datos2.avg_age>=18.0)&(datos2.avg_age<25.0) ,'avg_age']=1;\n",
        "datos2.loc[(datos2.avg_age>=25.0)&(datos2.avg_age<45.0) ,'avg_age']=2;\n",
        "datos2.loc[(datos2.avg_age>=45.0)&(datos2.avg_age<70.0) ,'avg_age']=3;\n",
        "datos2.loc[(datos2.avg_age>=70.0) ,'avg_age']=4;\n",
        "datos2.drop(datos2[datos2.avg_age.isnull()].index, inplace = True)"
      ],
      "execution_count": 30,
      "outputs": []
    },
    {
      "cell_type": "code",
      "metadata": {
        "id": "5Ndstmmjxseo"
      },
      "source": [
        "datos3=datos2.copy()\n",
        "datos3 = datos3.drop(['heridos'], axis=1) #Eliminar columnas correlacionales a global_sales\n",
        "variables_independientes = datos3"
      ],
      "execution_count": 12,
      "outputs": []
    },
    {
      "cell_type": "code",
      "metadata": {
        "id": "P2YQNv2Zxuj4"
      },
      "source": [
        "datos4=datos2.copy()\n",
        "datos4 = datos4.drop(['month','day','state2','gun_stolen','gun_type','n_guns_involved','participant_age_group','participant_gender','avg_age'], axis=1) #Eliminar columnas correlacionales a global_sales\n",
        "variables_objetivo = datos4"
      ],
      "execution_count": 13,
      "outputs": []
    },
    {
      "cell_type": "code",
      "metadata": {
        "colab": {
          "base_uri": "https://localhost:8080/",
          "height": 1000
        },
        "id": "pkr-hgpXwhnf",
        "outputId": "bea1af20-aa57-400e-8dba-162e47762d86"
      },
      "source": [
        "##Para los muertos\n",
        "distortions = []\n",
        "K = range(1,14)\n",
        "for k in K:\n",
        "    kmeanModel = cluster.KMeans(n_clusters=k).fit(datos4[['heridos']])\n",
        "    kmeanModel.fit(datos4[['heridos']])\n",
        "    distortions.append(sum(np.min(cdist(datos4[['heridos']], kmeanModel.cluster_centers_,\n",
        "                                        'euclidean'), axis=1)) / datos4[['heridos']].shape[0])\n",
        "\n",
        "plt.plot(K, distortions, 'bx-')\n",
        "plt.xlabel('Número de clusters (k)')\n",
        "plt.ylabel('Distancia Minima Media')\n",
        "plt.title('Método del Codo para Determinar el Número de Clusters')\n",
        "plt.show()"
      ],
      "execution_count": 14,
      "outputs": [
        {
          "output_type": "stream",
          "text": [
            "/usr/local/lib/python3.7/dist-packages/ipykernel_launcher.py:5: ConvergenceWarning: Number of distinct clusters (2) found smaller than n_clusters (3). Possibly due to duplicate points in X.\n",
            "  \"\"\"\n",
            "/usr/local/lib/python3.7/dist-packages/ipykernel_launcher.py:6: ConvergenceWarning: Number of distinct clusters (2) found smaller than n_clusters (3). Possibly due to duplicate points in X.\n",
            "  \n",
            "/usr/local/lib/python3.7/dist-packages/ipykernel_launcher.py:5: ConvergenceWarning: Number of distinct clusters (2) found smaller than n_clusters (4). Possibly due to duplicate points in X.\n",
            "  \"\"\"\n",
            "/usr/local/lib/python3.7/dist-packages/ipykernel_launcher.py:6: ConvergenceWarning: Number of distinct clusters (2) found smaller than n_clusters (4). Possibly due to duplicate points in X.\n",
            "  \n",
            "/usr/local/lib/python3.7/dist-packages/ipykernel_launcher.py:5: ConvergenceWarning: Number of distinct clusters (2) found smaller than n_clusters (5). Possibly due to duplicate points in X.\n",
            "  \"\"\"\n",
            "/usr/local/lib/python3.7/dist-packages/ipykernel_launcher.py:6: ConvergenceWarning: Number of distinct clusters (2) found smaller than n_clusters (5). Possibly due to duplicate points in X.\n",
            "  \n",
            "/usr/local/lib/python3.7/dist-packages/ipykernel_launcher.py:5: ConvergenceWarning: Number of distinct clusters (2) found smaller than n_clusters (6). Possibly due to duplicate points in X.\n",
            "  \"\"\"\n",
            "/usr/local/lib/python3.7/dist-packages/ipykernel_launcher.py:6: ConvergenceWarning: Number of distinct clusters (2) found smaller than n_clusters (6). Possibly due to duplicate points in X.\n",
            "  \n",
            "/usr/local/lib/python3.7/dist-packages/ipykernel_launcher.py:5: ConvergenceWarning: Number of distinct clusters (2) found smaller than n_clusters (7). Possibly due to duplicate points in X.\n",
            "  \"\"\"\n",
            "/usr/local/lib/python3.7/dist-packages/ipykernel_launcher.py:6: ConvergenceWarning: Number of distinct clusters (2) found smaller than n_clusters (7). Possibly due to duplicate points in X.\n",
            "  \n",
            "/usr/local/lib/python3.7/dist-packages/ipykernel_launcher.py:5: ConvergenceWarning: Number of distinct clusters (2) found smaller than n_clusters (8). Possibly due to duplicate points in X.\n",
            "  \"\"\"\n",
            "/usr/local/lib/python3.7/dist-packages/ipykernel_launcher.py:6: ConvergenceWarning: Number of distinct clusters (2) found smaller than n_clusters (8). Possibly due to duplicate points in X.\n",
            "  \n",
            "/usr/local/lib/python3.7/dist-packages/ipykernel_launcher.py:5: ConvergenceWarning: Number of distinct clusters (2) found smaller than n_clusters (9). Possibly due to duplicate points in X.\n",
            "  \"\"\"\n",
            "/usr/local/lib/python3.7/dist-packages/ipykernel_launcher.py:6: ConvergenceWarning: Number of distinct clusters (2) found smaller than n_clusters (9). Possibly due to duplicate points in X.\n",
            "  \n",
            "/usr/local/lib/python3.7/dist-packages/ipykernel_launcher.py:5: ConvergenceWarning: Number of distinct clusters (2) found smaller than n_clusters (10). Possibly due to duplicate points in X.\n",
            "  \"\"\"\n",
            "/usr/local/lib/python3.7/dist-packages/ipykernel_launcher.py:6: ConvergenceWarning: Number of distinct clusters (2) found smaller than n_clusters (10). Possibly due to duplicate points in X.\n",
            "  \n",
            "/usr/local/lib/python3.7/dist-packages/ipykernel_launcher.py:5: ConvergenceWarning: Number of distinct clusters (2) found smaller than n_clusters (11). Possibly due to duplicate points in X.\n",
            "  \"\"\"\n",
            "/usr/local/lib/python3.7/dist-packages/ipykernel_launcher.py:6: ConvergenceWarning: Number of distinct clusters (2) found smaller than n_clusters (11). Possibly due to duplicate points in X.\n",
            "  \n",
            "/usr/local/lib/python3.7/dist-packages/ipykernel_launcher.py:5: ConvergenceWarning: Number of distinct clusters (2) found smaller than n_clusters (12). Possibly due to duplicate points in X.\n",
            "  \"\"\"\n",
            "/usr/local/lib/python3.7/dist-packages/ipykernel_launcher.py:6: ConvergenceWarning: Number of distinct clusters (2) found smaller than n_clusters (12). Possibly due to duplicate points in X.\n",
            "  \n",
            "/usr/local/lib/python3.7/dist-packages/ipykernel_launcher.py:5: ConvergenceWarning: Number of distinct clusters (2) found smaller than n_clusters (13). Possibly due to duplicate points in X.\n",
            "  \"\"\"\n",
            "/usr/local/lib/python3.7/dist-packages/ipykernel_launcher.py:6: ConvergenceWarning: Number of distinct clusters (2) found smaller than n_clusters (13). Possibly due to duplicate points in X.\n",
            "  \n"
          ],
          "name": "stderr"
        },
        {
          "output_type": "display_data",
          "data": {
            "image/png": "[encoded data removed]",
            "text/plain": [
              "<Figure size 432x288 with 1 Axes>"
            ]
          },
          "metadata": {
            "tags": [],
            "needs_background": "light"
          }
        }
      ]
    },
    {
      "cell_type": "markdown",
      "metadata": {
        "id": "lF7vLcnux6t5"
      },
      "source": [
        "**KMEANS PARA 3 GRUPOS**"
      ]
    },
    {
      "cell_type": "code",
      "metadata": {
        "colab": {
          "base_uri": "https://localhost:8080/",
          "height": 265
        },
        "id": "1_EyTztJwh-H",
        "outputId": "2af0de33-2464-4672-8270-8afce8b88c35"
      },
      "source": [
        "kmeans = cluster.KMeans(3)\n",
        "kmeans.fit(datos2[['heridos', 'state2']])\n",
        "labels = kmeans.labels_\n",
        "centroids3 = kmeans.cluster_centers_\n",
        "plt.scatter( datos2['heridos'],datos2['state2'], c=labels)\n",
        "plt.scatter(centroids3[:,0], centroids3[:,1], marker='x', c='green')\n",
        "plt.show()"
      ],
      "execution_count": 15,
      "outputs": [
        {
          "output_type": "display_data",
          "data": {
            "image/png": "[encoded data removed]",
            "text/plain": [
              "<Figure size 432x288 with 1 Axes>"
            ]
          },
          "metadata": {
            "tags": [],
            "needs_background": "light"
          }
        }
      ]
    },
    {
      "cell_type": "code",
      "metadata": {
        "colab": {
          "base_uri": "https://localhost:8080/"
        },
        "id": "vTcSvSvqwlLn",
        "outputId": "3734f9b2-f443-4d11-f094-94e9d04cdd55"
      },
      "source": [
        "# Valores de los centroides\n",
        "centroids3"
      ],
      "execution_count": 16,
      "outputs": [
        {
          "output_type": "execute_result",
          "data": {
            "text/plain": [
              "array([[6.52889772e-01, 1.00000000e+00],\n",
              "       [5.92854958e-01, 2.19853859e+00],\n",
              "       [5.52915830e-01, 6.68354261e-13]])"
            ]
          },
          "metadata": {
            "tags": []
          },
          "execution_count": 16
        }
      ]
    },
    {
      "cell_type": "markdown",
      "metadata": {
        "id": "9Ioq0KkHyBM4"
      },
      "source": [
        "**KMEANS PARA 4 GRUPOS**"
      ]
    },
    {
      "cell_type": "code",
      "metadata": {
        "colab": {
          "base_uri": "https://localhost:8080/",
          "height": 265
        },
        "id": "ZQ9kMWxZwmwp",
        "outputId": "c5e406de-f78f-4a29-d004-17c5d90c3558"
      },
      "source": [
        "kmeans = cluster.KMeans(4)\n",
        "kmeans.fit(datos2[[ 'heridos','state2']])\n",
        "labels = kmeans.labels_\n",
        "centroids4 = kmeans.cluster_centers_\n",
        "plt.scatter( datos2['heridos'],datos2['state2'], c=labels)\n",
        "plt.scatter(centroids4[:,0], centroids4[:,1], marker='x', c='green')\n",
        "plt.show()"
      ],
      "execution_count": 17,
      "outputs": [
        {
          "output_type": "display_data",
          "data": {
            "image/png": "[encoded data removed]",
            "text/plain": [
              "<Figure size 432x288 with 1 Axes>"
            ]
          },
          "metadata": {
            "tags": [],
            "needs_background": "light"
          }
        }
      ]
    },
    {
      "cell_type": "code",
      "metadata": {
        "colab": {
          "base_uri": "https://localhost:8080/"
        },
        "id": "-8GAV4Kqwnux",
        "outputId": "b741fa58-b2c0-4c4c-8cd5-5333996f8357"
      },
      "source": [
        "# Valores de los centroides\n",
        "centroids4"
      ],
      "execution_count": 18,
      "outputs": [
        {
          "output_type": "execute_result",
          "data": {
            "text/plain": [
              "array([[6.52889772e-01, 1.00000000e+00],\n",
              "       [5.03708186e-13, 2.17912539e+00],\n",
              "       [1.00000000e+00, 2.21187067e+00],\n",
              "       [5.52915830e-01, 6.68354261e-13]])"
            ]
          },
          "metadata": {
            "tags": []
          },
          "execution_count": 18
        }
      ]
    },
    {
      "cell_type": "markdown",
      "metadata": {
        "id": "uil_4UiyyDTA"
      },
      "source": [
        "**KMEANS PARA 5 GRUPOS**"
      ]
    },
    {
      "cell_type": "code",
      "metadata": {
        "colab": {
          "base_uri": "https://localhost:8080/",
          "height": 265
        },
        "id": "2kF6bMqQwpbD",
        "outputId": "3a3aa9d5-fec0-426d-afb4-812091a2f275"
      },
      "source": [
        "kmeans = cluster.KMeans(5)\n",
        "kmeans.fit(datos2[['heridos', 'state2']])\n",
        "labels = kmeans.labels_\n",
        "centroids5 = kmeans.cluster_centers_\n",
        "plt.scatter(datos2['heridos'], datos2['state2'], c=labels)\n",
        "plt.scatter(centroids5[:,0], centroids5[:,1], marker='x', c='green')\n",
        "plt.show()"
      ],
      "execution_count": 19,
      "outputs": [
        {
          "output_type": "display_data",
          "data": {
            "image/png": "[encoded data removed]",
            "text/plain": [
              "<Figure size 432x288 with 1 Axes>"
            ]
          },
          "metadata": {
            "tags": [],
            "needs_background": "light"
          }
        }
      ]
    },
    {
      "cell_type": "code",
      "metadata": {
        "colab": {
          "base_uri": "https://localhost:8080/"
        },
        "id": "sDAi-NvmwqxY",
        "outputId": "a040b6b1-3ec6-4fa1-dcf8-b998620ac97d"
      },
      "source": [
        "# Valores de los centroides\n",
        "centroids5"
      ],
      "execution_count": 20,
      "outputs": [
        {
          "output_type": "execute_result",
          "data": {
            "text/plain": [
              "array([[ 4.97268893e-13,  3.64240757e-01],\n",
              "       [ 1.00000000e+00,  2.21187067e+00],\n",
              "       [ 5.03708186e-13,  2.17912539e+00],\n",
              "       [ 1.00000000e+00, -4.61630734e-13],\n",
              "       [ 1.00000000e+00,  1.00000000e+00]])"
            ]
          },
          "metadata": {
            "tags": []
          },
          "execution_count": 20
        }
      ]
    },
    {
      "cell_type": "markdown",
      "metadata": {
        "id": "DHVOAPzuyFJ2"
      },
      "source": [
        "**KMEANS PARA 6 GRUPOS**"
      ]
    },
    {
      "cell_type": "code",
      "metadata": {
        "colab": {
          "base_uri": "https://localhost:8080/",
          "height": 265
        },
        "id": "T7fUFH8jwr82",
        "outputId": "54e35ac8-4daf-4e3f-ef00-bdc1db6a2153"
      },
      "source": [
        "kmeans = cluster.KMeans(6)\n",
        "kmeans.fit(datos2[['heridos','state2']])\n",
        "labels = kmeans.labels_\n",
        "centroids6 = kmeans.cluster_centers_\n",
        "plt.scatter(datos2['heridos'],datos2['state2'], c=labels)\n",
        "plt.scatter(centroids6[:,0], centroids6[:,1], marker='x', c='green')\n",
        "plt.show()"
      ],
      "execution_count": 21,
      "outputs": [
        {
          "output_type": "display_data",
          "data": {
            "image/png": "[encoded data removed]",
            "text/plain": [
              "<Figure size 432x288 with 1 Axes>"
            ]
          },
          "metadata": {
            "tags": [],
            "needs_background": "light"
          }
        }
      ]
    },
    {
      "cell_type": "code",
      "metadata": {
        "colab": {
          "base_uri": "https://localhost:8080/"
        },
        "id": "LWyfBOXIwuVY",
        "outputId": "f47049f1-4174-4675-8ddf-87fd287bc7e1"
      },
      "source": [
        "# Valores de los centroides\n",
        "centroids6"
      ],
      "execution_count": 22,
      "outputs": [
        {
          "output_type": "execute_result",
          "data": {
            "text/plain": [
              "array([[ 1.00000000e+00,  2.21187067e+00],\n",
              "       [ 1.00000000e+00, -4.61630734e-13],\n",
              "       [ 5.03708186e-13,  2.17912539e+00],\n",
              "       [ 1.00000000e+00,  1.00000000e+00],\n",
              "       [ 3.55160346e-13, -9.76996262e-15],\n",
              "       [ 6.42819131e-14,  1.00000000e+00]])"
            ]
          },
          "metadata": {
            "tags": []
          },
          "execution_count": 22
        }
      ]
    },
    {
      "cell_type": "code",
      "metadata": {
        "id": "-w_wLyEMwwZW"
      },
      "source": [
        "from scipy.spatial.distance import pdist, squareform"
      ],
      "execution_count": 23,
      "outputs": []
    },
    {
      "cell_type": "code",
      "metadata": {
        "id": "s2w9n6pkwxs9"
      },
      "source": [
        "clustdf_t=datos2.transpose()\n",
        "c_dist = pdist(clustdf_t) # computing the distance\n",
        "c_link = linkage(clustdf_t,  metric='correlation', method='complete')# computing the linkage"
      ],
      "execution_count": 31,
      "outputs": []
    },
    {
      "cell_type": "code",
      "metadata": {
        "colab": {
          "base_uri": "https://localhost:8080/",
          "height": 475
        },
        "id": "EDKGicB0wy2o",
        "outputId": "1738fefa-69aa-4c17-ee52-71aa186bb283"
      },
      "source": [
        "plt.figure(figsize=(40, 10))\n",
        "dendrogram(c_link,labels=list(datos2.columns))\n",
        "plt.show()"
      ],
      "execution_count": 32,
      "outputs": [
        {
          "output_type": "display_data",
          "data": {
            "image/png": "[encoded data removed]",
            "text/plain": [
              "<Figure size 2880x720 with 1 Axes>"
            ]
          },
          "metadata": {
            "tags": [],
            "needs_background": "light"
          }
        }
      ]
    }
  ]
}