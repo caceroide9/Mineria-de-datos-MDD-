{
  "nbformat": 4,
  "nbformat_minor": 0,
  "metadata": {
    "colab": {
      "name": "Actividad 07 V2.ipynb",
      "provenance": [],
      "collapsed_sections": []
    },
    "kernelspec": {
      "name": "python3",
      "display_name": "Python 3"
    },
    "language_info": {
      "name": "python"
    }
  },
  "cells": [
    {
      "cell_type": "code",
      "metadata": {
        "colab": {
          "base_uri": "https://localhost:8080/"
        },
        "id": "FiPlPPSCvEsG",
        "outputId": "98ed0303-0fb8-40ce-85f4-181422c7b032"
      },
      "source": [
        "from google.colab import drive\n",
        "drive.mount('/content/drive/')\n",
        "\n",
        "path = '/content/drive/My Drive/'"
      ],
      "execution_count": null,
      "outputs": [
        {
          "output_type": "stream",
          "text": [
            "Drive already mounted at /content/drive/; to attempt to forcibly remount, call drive.mount(\"/content/drive/\", force_remount=True).\n"
          ],
          "name": "stdout"
        }
      ]
    },
    {
      "cell_type": "code",
      "metadata": {
        "id": "nXekqvV6vHfx"
      },
      "source": [
        "import pandas as pd\n",
        "import numpy as np\n",
        "import matplotlib.pyplot as plt"
      ],
      "execution_count": null,
      "outputs": []
    },
    {
      "cell_type": "code",
      "metadata": {
        "colab": {
          "base_uri": "https://localhost:8080/"
        },
        "id": "HOep1RwzvJGp",
        "outputId": "a78e71f2-9c9c-40e1-df3a-c91c8d8560d7"
      },
      "source": [
        "datos=pd.read_csv(\"/content/drive/My Drive/Caso Real MDD - Dataset/201601.csv\")\n",
        "datos.info()"
      ],
      "execution_count": null,
      "outputs": [
        {
          "output_type": "stream",
          "text": [
            "<class 'pandas.core.frame.DataFrame'>\n",
            "RangeIndex: 594412 entries, 0 to 594411\n",
            "Data columns (total 24 columns):\n",
            " #   Column          Non-Null Count   Dtype  \n",
            "---  ------          --------------   -----  \n",
            " 0   f_agenda        594412 non-null  object \n",
            " 1   h_agenda        594388 non-null  object \n",
            " 2   uo              594412 non-null  object \n",
            " 3   asignenf        594412 non-null  object \n",
            " 4   medico          594412 non-null  object \n",
            " 5   f_creacion      594412 non-null  object \n",
            " 6   u_creacion      594412 non-null  object \n",
            " 7   f_modificacion  594412 non-null  object \n",
            " 8   u_modificacion  577190 non-null  object \n",
            " 9   duracion        594412 non-null  int64  \n",
            " 10  especialidad    593576 non-null  object \n",
            " 11  episodio        366684 non-null  float64\n",
            " 12  anulado         137932 non-null  object \n",
            " 13  mot_anul        121898 non-null  object \n",
            " 14  f_anul          594412 non-null  object \n",
            " 15  h_anul          594388 non-null  object \n",
            " 16  poblacion       584867 non-null  object \n",
            " 17  distrito        584816 non-null  object \n",
            " 18  direccion       584786 non-null  object \n",
            " 19  sexo            594370 non-null  float64\n",
            " 20  f_nacimiento    594412 non-null  object \n",
            " 21  paciente        594412 non-null  int64  \n",
            " 22  rut             593835 non-null  object \n",
            " 23  aseguradora     294423 non-null  float64\n",
            "dtypes: float64(3), int64(2), object(19)\n",
            "memory usage: 108.8+ MB\n"
          ],
          "name": "stdout"
        }
      ]
    },
    {
      "cell_type": "code",
      "metadata": {
        "colab": {
          "base_uri": "https://localhost:8080/",
          "height": 686
        },
        "id": "NA7YRPLm8pgq",
        "outputId": "e2eb2cf3-c0e8-4ec4-9323-3c2af2de04f6"
      },
      "source": [
        "datos"
      ],
      "execution_count": null,
      "outputs": [
        {
          "output_type": "execute_result",
          "data": {
            "text/html": [
              "<div>\n",
              "<style scoped>\n",
              "    .dataframe tbody tr th:only-of-type {\n",
              "        vertical-align: middle;\n",
              "    }\n",
              "\n",
              "    .dataframe tbody tr th {\n",
              "        vertical-align: top;\n",
              "    }\n",
              "\n",
              "    .dataframe thead th {\n",
              "        text-align: right;\n",
              "    }\n",
              "</style>\n",
              "<table border=\"1\" class=\"dataframe\">\n",
              "  <thead>\n",
              "    <tr style=\"text-align: right;\">\n",
              "      <th></th>\n",
              "      <th>f_agenda</th>\n",
              "      <th>h_agenda</th>\n",
              "      <th>uo</th>\n",
              "      <th>asignenf</th>\n",
              "      <th>medico</th>\n",
              "      <th>f_creacion</th>\n",
              "      <th>u_creacion</th>\n",
              "      <th>f_modificacion</th>\n",
              "      <th>u_modificacion</th>\n",
              "      <th>duracion</th>\n",
              "      <th>especialidad</th>\n",
              "      <th>episodio</th>\n",
              "      <th>anulado</th>\n",
              "      <th>mot_anul</th>\n",
              "      <th>f_anul</th>\n",
              "      <th>h_anul</th>\n",
              "      <th>poblacion</th>\n",
              "      <th>distrito</th>\n",
              "      <th>direccion</th>\n",
              "      <th>sexo</th>\n",
              "      <th>f_nacimiento</th>\n",
              "      <th>paciente</th>\n",
              "      <th>rut</th>\n",
              "      <th>aseguradora</th>\n",
              "    </tr>\n",
              "  </thead>\n",
              "  <tbody>\n",
              "    <tr>\n",
              "      <th>0</th>\n",
              "      <td>14.01.2016</td>\n",
              "      <td>09:00:00</td>\n",
              "      <td>IBAGIOB</td>\n",
              "      <td>IBARP06</td>\n",
              "      <td>4777923-5</td>\n",
              "      <td>13.01.2016</td>\n",
              "      <td>AGENDAIT</td>\n",
              "      <td>13.01.2016</td>\n",
              "      <td>CCENTER</td>\n",
              "      <td>15</td>\n",
              "      <td>2420</td>\n",
              "      <td>NaN</td>\n",
              "      <td>NaN</td>\n",
              "      <td>NaN</td>\n",
              "      <td>00.00.0000</td>\n",
              "      <td>09:00:00</td>\n",
              "      <td>NaN</td>\n",
              "      <td>NaN</td>\n",
              "      <td>NaN</td>\n",
              "      <td>NaN</td>\n",
              "      <td>02.02.1982</td>\n",
              "      <td>10172567</td>\n",
              "      <td>15377213-4</td>\n",
              "      <td>NaN</td>\n",
              "    </tr>\n",
              "    <tr>\n",
              "      <th>1</th>\n",
              "      <td>26.01.2016</td>\n",
              "      <td>09:10:00</td>\n",
              "      <td>ILSMEGRA</td>\n",
              "      <td>ILSRP02A</td>\n",
              "      <td>13529539-6</td>\n",
              "      <td>25.01.2016</td>\n",
              "      <td>AGENDAIT</td>\n",
              "      <td>26.01.2016</td>\n",
              "      <td>TMOLINA</td>\n",
              "      <td>20</td>\n",
              "      <td>2690</td>\n",
              "      <td>37147336.0</td>\n",
              "      <td>NaN</td>\n",
              "      <td>NaN</td>\n",
              "      <td>00.00.0000</td>\n",
              "      <td>09:10:00</td>\n",
              "      <td>VILLA LA  FLORIDA</td>\n",
              "      <td>LA SERENA</td>\n",
              "      <td>LINCOYAN  4255</td>\n",
              "      <td>1.0</td>\n",
              "      <td>21.11.1980</td>\n",
              "      <td>12137301</td>\n",
              "      <td>13876411-7</td>\n",
              "      <td>900001.0</td>\n",
              "    </tr>\n",
              "    <tr>\n",
              "      <th>2</th>\n",
              "      <td>08.01.2016</td>\n",
              "      <td>18:15:00</td>\n",
              "      <td>ITOTRAU</td>\n",
              "      <td>ITORP02</td>\n",
              "      <td>6572813-3</td>\n",
              "      <td>04.01.2016</td>\n",
              "      <td>AGENDAIT</td>\n",
              "      <td>04.01.2016</td>\n",
              "      <td>RROJASAA</td>\n",
              "      <td>15</td>\n",
              "      <td>3440</td>\n",
              "      <td>NaN</td>\n",
              "      <td>X</td>\n",
              "      <td>51</td>\n",
              "      <td>04.01.2016</td>\n",
              "      <td>18:15:00</td>\n",
              "      <td>X</td>\n",
              "      <td>X</td>\n",
              "      <td>X</td>\n",
              "      <td>1.0</td>\n",
              "      <td>11.11.1975</td>\n",
              "      <td>12561135</td>\n",
              "      <td>12881212-1</td>\n",
              "      <td>NaN</td>\n",
              "    </tr>\n",
              "    <tr>\n",
              "      <th>3</th>\n",
              "      <td>11.01.2016</td>\n",
              "      <td>18:00:00</td>\n",
              "      <td>ITOTRAU</td>\n",
              "      <td>ITORP02</td>\n",
              "      <td>6572813-3</td>\n",
              "      <td>05.01.2016</td>\n",
              "      <td>VAPEREZ</td>\n",
              "      <td>11.01.2016</td>\n",
              "      <td>CHENRIQUEZ</td>\n",
              "      <td>15</td>\n",
              "      <td>3440</td>\n",
              "      <td>NaN</td>\n",
              "      <td>X</td>\n",
              "      <td>OMO</td>\n",
              "      <td>11.01.2016</td>\n",
              "      <td>18:00:00</td>\n",
              "      <td>X</td>\n",
              "      <td>X</td>\n",
              "      <td>X</td>\n",
              "      <td>1.0</td>\n",
              "      <td>11.11.1975</td>\n",
              "      <td>12561135</td>\n",
              "      <td>12881212-1</td>\n",
              "      <td>NaN</td>\n",
              "    </tr>\n",
              "    <tr>\n",
              "      <th>4</th>\n",
              "      <td>12.01.2016</td>\n",
              "      <td>16:00:00</td>\n",
              "      <td>IPVTRAU</td>\n",
              "      <td>IPVRP05</td>\n",
              "      <td>8206865-1</td>\n",
              "      <td>07.01.2016</td>\n",
              "      <td>JRUBI</td>\n",
              "      <td>12.01.2016</td>\n",
              "      <td>AHARAYA</td>\n",
              "      <td>15</td>\n",
              "      <td>3440</td>\n",
              "      <td>36907162.0</td>\n",
              "      <td>NaN</td>\n",
              "      <td>NaN</td>\n",
              "      <td>00.00.0000</td>\n",
              "      <td>16:00:00</td>\n",
              "      <td>X</td>\n",
              "      <td>X</td>\n",
              "      <td>X</td>\n",
              "      <td>1.0</td>\n",
              "      <td>11.11.1975</td>\n",
              "      <td>12561135</td>\n",
              "      <td>12881212-1</td>\n",
              "      <td>900012.0</td>\n",
              "    </tr>\n",
              "    <tr>\n",
              "      <th>...</th>\n",
              "      <td>...</td>\n",
              "      <td>...</td>\n",
              "      <td>...</td>\n",
              "      <td>...</td>\n",
              "      <td>...</td>\n",
              "      <td>...</td>\n",
              "      <td>...</td>\n",
              "      <td>...</td>\n",
              "      <td>...</td>\n",
              "      <td>...</td>\n",
              "      <td>...</td>\n",
              "      <td>...</td>\n",
              "      <td>...</td>\n",
              "      <td>...</td>\n",
              "      <td>...</td>\n",
              "      <td>...</td>\n",
              "      <td>...</td>\n",
              "      <td>...</td>\n",
              "      <td>...</td>\n",
              "      <td>...</td>\n",
              "      <td>...</td>\n",
              "      <td>...</td>\n",
              "      <td>...</td>\n",
              "      <td>...</td>\n",
              "    </tr>\n",
              "    <tr>\n",
              "      <th>594407</th>\n",
              "      <td>05.01.2016</td>\n",
              "      <td>09:45:00</td>\n",
              "      <td>IALODINT</td>\n",
              "      <td>IALRP05N</td>\n",
              "      <td>6973018-3</td>\n",
              "      <td>03.01.2016</td>\n",
              "      <td>AGENDAIT</td>\n",
              "      <td>05.01.2016</td>\n",
              "      <td>EANDRADE</td>\n",
              "      <td>15</td>\n",
              "      <td>2910</td>\n",
              "      <td>36760407.0</td>\n",
              "      <td>NaN</td>\n",
              "      <td>NaN</td>\n",
              "      <td>00.00.0000</td>\n",
              "      <td>09:45:00</td>\n",
              "      <td>Santiago Centro</td>\n",
              "      <td>Santiago</td>\n",
              "      <td>Argomedo 190 Depto 1304</td>\n",
              "      <td>1.0</td>\n",
              "      <td>27.02.1989</td>\n",
              "      <td>15448939</td>\n",
              "      <td>17035083-9</td>\n",
              "      <td>NaN</td>\n",
              "    </tr>\n",
              "    <tr>\n",
              "      <th>594408</th>\n",
              "      <td>06.01.2016</td>\n",
              "      <td>09:45:00</td>\n",
              "      <td>IALODEND</td>\n",
              "      <td>IALRP05N</td>\n",
              "      <td>15831208-5</td>\n",
              "      <td>05.01.2016</td>\n",
              "      <td>EANDRADE</td>\n",
              "      <td>06.01.2016</td>\n",
              "      <td>EANDRADE</td>\n",
              "      <td>15</td>\n",
              "      <td>2900</td>\n",
              "      <td>36784985.0</td>\n",
              "      <td>NaN</td>\n",
              "      <td>NaN</td>\n",
              "      <td>00.00.0000</td>\n",
              "      <td>09:45:00</td>\n",
              "      <td>Santiago Centro</td>\n",
              "      <td>Santiago</td>\n",
              "      <td>Argomedo 190 Depto 1304</td>\n",
              "      <td>1.0</td>\n",
              "      <td>27.02.1989</td>\n",
              "      <td>15448939</td>\n",
              "      <td>17035083-9</td>\n",
              "      <td>NaN</td>\n",
              "    </tr>\n",
              "    <tr>\n",
              "      <th>594409</th>\n",
              "      <td>13.01.2016</td>\n",
              "      <td>11:00:00</td>\n",
              "      <td>IALODEND</td>\n",
              "      <td>IALRP05N</td>\n",
              "      <td>15831208-5</td>\n",
              "      <td>06.01.2016</td>\n",
              "      <td>MCORTEZ</td>\n",
              "      <td>13.01.2016</td>\n",
              "      <td>ECID</td>\n",
              "      <td>75</td>\n",
              "      <td>2900</td>\n",
              "      <td>36784985.0</td>\n",
              "      <td>NaN</td>\n",
              "      <td>NaN</td>\n",
              "      <td>00.00.0000</td>\n",
              "      <td>11:00:00</td>\n",
              "      <td>Santiago Centro</td>\n",
              "      <td>Santiago</td>\n",
              "      <td>Argomedo 190 Depto 1304</td>\n",
              "      <td>1.0</td>\n",
              "      <td>27.02.1989</td>\n",
              "      <td>15448939</td>\n",
              "      <td>17035083-9</td>\n",
              "      <td>NaN</td>\n",
              "    </tr>\n",
              "    <tr>\n",
              "      <th>594410</th>\n",
              "      <td>27.01.2016</td>\n",
              "      <td>11:00:00</td>\n",
              "      <td>IALODEND</td>\n",
              "      <td>IALRP05N</td>\n",
              "      <td>15831208-5</td>\n",
              "      <td>13.01.2016</td>\n",
              "      <td>MCORTEZ</td>\n",
              "      <td>27.01.2016</td>\n",
              "      <td>BCARRILLOC</td>\n",
              "      <td>60</td>\n",
              "      <td>2900</td>\n",
              "      <td>36784985.0</td>\n",
              "      <td>NaN</td>\n",
              "      <td>NaN</td>\n",
              "      <td>00.00.0000</td>\n",
              "      <td>11:00:00</td>\n",
              "      <td>Santiago Centro</td>\n",
              "      <td>Santiago</td>\n",
              "      <td>Argomedo 190 Depto 1304</td>\n",
              "      <td>1.0</td>\n",
              "      <td>27.02.1989</td>\n",
              "      <td>15448939</td>\n",
              "      <td>17035083-9</td>\n",
              "      <td>NaN</td>\n",
              "    </tr>\n",
              "    <tr>\n",
              "      <th>594411</th>\n",
              "      <td>07.01.2016</td>\n",
              "      <td>16:00:00</td>\n",
              "      <td>IPEODPED</td>\n",
              "      <td>IPERP07</td>\n",
              "      <td>11499651-3</td>\n",
              "      <td>25.12.2015</td>\n",
              "      <td>AGENDAIT</td>\n",
              "      <td>07.01.2016</td>\n",
              "      <td>CLOPEZS</td>\n",
              "      <td>15</td>\n",
              "      <td>2940</td>\n",
              "      <td>36824017.0</td>\n",
              "      <td>NaN</td>\n",
              "      <td>NaN</td>\n",
              "      <td>00.00.0000</td>\n",
              "      <td>16:00:00</td>\n",
              "      <td>LA REINA</td>\n",
              "      <td>santiago</td>\n",
              "      <td>LOS MAITENES 280</td>\n",
              "      <td>2.0</td>\n",
              "      <td>18.10.2001</td>\n",
              "      <td>13405920</td>\n",
              "      <td>20808246-9</td>\n",
              "      <td>NaN</td>\n",
              "    </tr>\n",
              "  </tbody>\n",
              "</table>\n",
              "<p>594412 rows × 24 columns</p>\n",
              "</div>"
            ],
            "text/plain": [
              "          f_agenda  h_agenda        uo  ...  paciente         rut aseguradora\n",
              "0       14.01.2016  09:00:00   IBAGIOB  ...  10172567  15377213-4         NaN\n",
              "1       26.01.2016  09:10:00  ILSMEGRA  ...  12137301  13876411-7    900001.0\n",
              "2       08.01.2016  18:15:00   ITOTRAU  ...  12561135  12881212-1         NaN\n",
              "3       11.01.2016  18:00:00   ITOTRAU  ...  12561135  12881212-1         NaN\n",
              "4       12.01.2016  16:00:00   IPVTRAU  ...  12561135  12881212-1    900012.0\n",
              "...            ...       ...       ...  ...       ...         ...         ...\n",
              "594407  05.01.2016  09:45:00  IALODINT  ...  15448939  17035083-9         NaN\n",
              "594408  06.01.2016  09:45:00  IALODEND  ...  15448939  17035083-9         NaN\n",
              "594409  13.01.2016  11:00:00  IALODEND  ...  15448939  17035083-9         NaN\n",
              "594410  27.01.2016  11:00:00  IALODEND  ...  15448939  17035083-9         NaN\n",
              "594411  07.01.2016  16:00:00  IPEODPED  ...  13405920  20808246-9         NaN\n",
              "\n",
              "[594412 rows x 24 columns]"
            ]
          },
          "metadata": {
            "tags": []
          },
          "execution_count": 4
        }
      ]
    },
    {
      "cell_type": "code",
      "metadata": {
        "colab": {
          "base_uri": "https://localhost:8080/"
        },
        "id": "MPolXhcnvUg1",
        "outputId": "82b62f0f-09cb-4097-bd4c-d3d2092ab8fd"
      },
      "source": [
        "datos=datos.drop_duplicates()\n",
        "# determinar delta de dias entre creacion y agendacion\n",
        "\n",
        "datos['f_agenda'] = pd.to_datetime(datos['f_agenda'])\n",
        "datos['f_creacion'] = pd.to_datetime(datos['f_creacion'])\n",
        "datos['deltaCreacionAgenda'] = (datos['f_agenda'] - datos['f_creacion']).dt.days\n",
        "datos['diaSemanaAgendamiento']= datos['f_agenda'].dt.dayofweek\n",
        "\n",
        "datos = datos.loc[datos.h_agenda.notnull()]\n",
        "\n",
        "datos['horaAgendamiento'] = pd.to_datetime(datos['h_agenda']).dt.hour.astype(int)\n",
        "datos['horaAgendamiento'] = pd.factorize(datos['horaAgendamiento'])[0]\n",
        "\n",
        "datos = datos.loc[(datos.deltaCreacionAgenda >= 0)]\n",
        "\n",
        "\n"
      ],
      "execution_count": null,
      "outputs": [
        {
          "output_type": "stream",
          "text": [
            "/usr/local/lib/python3.7/dist-packages/ipykernel_launcher.py:4: SettingWithCopyWarning: \n",
            "A value is trying to be set on a copy of a slice from a DataFrame.\n",
            "Try using .loc[row_indexer,col_indexer] = value instead\n",
            "\n",
            "See the caveats in the documentation: https://pandas.pydata.org/pandas-docs/stable/user_guide/indexing.html#returning-a-view-versus-a-copy\n",
            "  after removing the cwd from sys.path.\n",
            "/usr/local/lib/python3.7/dist-packages/ipykernel_launcher.py:5: SettingWithCopyWarning: \n",
            "A value is trying to be set on a copy of a slice from a DataFrame.\n",
            "Try using .loc[row_indexer,col_indexer] = value instead\n",
            "\n",
            "See the caveats in the documentation: https://pandas.pydata.org/pandas-docs/stable/user_guide/indexing.html#returning-a-view-versus-a-copy\n",
            "  \"\"\"\n",
            "/usr/local/lib/python3.7/dist-packages/ipykernel_launcher.py:6: SettingWithCopyWarning: \n",
            "A value is trying to be set on a copy of a slice from a DataFrame.\n",
            "Try using .loc[row_indexer,col_indexer] = value instead\n",
            "\n",
            "See the caveats in the documentation: https://pandas.pydata.org/pandas-docs/stable/user_guide/indexing.html#returning-a-view-versus-a-copy\n",
            "  \n",
            "/usr/local/lib/python3.7/dist-packages/ipykernel_launcher.py:7: SettingWithCopyWarning: \n",
            "A value is trying to be set on a copy of a slice from a DataFrame.\n",
            "Try using .loc[row_indexer,col_indexer] = value instead\n",
            "\n",
            "See the caveats in the documentation: https://pandas.pydata.org/pandas-docs/stable/user_guide/indexing.html#returning-a-view-versus-a-copy\n",
            "  import sys\n"
          ],
          "name": "stderr"
        }
      ]
    },
    {
      "cell_type": "code",
      "metadata": {
        "colab": {
          "base_uri": "https://localhost:8080/",
          "height": 278
        },
        "id": "Z1yR4PnnQAaT",
        "outputId": "d1ce5fc2-ef81-4657-8ac6-01da68da9771"
      },
      "source": [
        "plot= datos['diaSemanaAgendamiento'].value_counts().plot(kind='bar',title=\"diaSemanaAgendamiento\");\n",
        "plt.show(plot)"
      ],
      "execution_count": null,
      "outputs": [
        {
          "output_type": "display_data",
          "data": {
            "image/png": "[encoded data removed]",
            "text/plain": [
              "<Figure size 432x288 with 1 Axes>"
            ]
          },
          "metadata": {
            "tags": [],
            "needs_background": "light"
          }
        }
      ]
    },
    {
      "cell_type": "code",
      "metadata": {
        "colab": {
          "base_uri": "https://localhost:8080/",
          "height": 284
        },
        "id": "TvmARFYvN1n5",
        "outputId": "d79a7486-e86f-47a3-8533-db145eef00d1"
      },
      "source": [
        "plot= datos['horaAgendamiento'].value_counts().plot(kind='bar',title=\"horaAgendamiento\");\n",
        "plt.show(plot)"
      ],
      "execution_count": null,
      "outputs": [
        {
          "output_type": "display_data",
          "data": {
            "image/png": "[encoded data removed]",
            "text/plain": [
              "<Figure size 432x288 with 1 Axes>"
            ]
          },
          "metadata": {
            "tags": [],
            "needs_background": "light"
          }
        }
      ]
    },
    {
      "cell_type": "code",
      "metadata": {
        "colab": {
          "base_uri": "https://localhost:8080/",
          "height": 278
        },
        "id": "UyVnBcy12ROQ",
        "outputId": "8033191b-95e2-4a38-9497-5cdc42143ed9"
      },
      "source": [
        "\n",
        "datos[\"anulado\"] = datos[\"anulado\"].replace(to_replace = np.nan, value = 0);\n",
        "datos[\"anulado\"] = datos[\"anulado\"].replace(to_replace = 'X', value = 1);\n",
        "\n",
        "plot= datos['anulado'].value_counts().plot(kind='bar',title=\"anulado\");\n",
        "plt.show(plot)\n"
      ],
      "execution_count": null,
      "outputs": [
        {
          "output_type": "display_data",
          "data": {
            "image/png": "[encoded data removed]",
            "text/plain": [
              "<Figure size 432x288 with 1 Axes>"
            ]
          },
          "metadata": {
            "tags": [],
            "needs_background": "light"
          }
        }
      ]
    },
    {
      "cell_type": "code",
      "metadata": {
        "colab": {
          "base_uri": "https://localhost:8080/",
          "height": 278
        },
        "id": "gg-Vp3NI5Re2",
        "outputId": "a31ca5e4-9360-4a2e-a8ef-7fd3e104e46d"
      },
      "source": [
        "datos[\"sexo\"] = datos[\"sexo\"].replace(np.nan,0);\n",
        "datos[\"sexo\"] = datos[\"sexo\"].astype(int)\n",
        "\n",
        "plot= datos['sexo'].value_counts().plot(kind='bar',title=\"sexo\");\n",
        "plt.show(plot)"
      ],
      "execution_count": null,
      "outputs": [
        {
          "output_type": "display_data",
          "data": {
            "image/png": "[encoded data removed]",
            "text/plain": [
              "<Figure size 432x288 with 1 Axes>"
            ]
          },
          "metadata": {
            "tags": [],
            "needs_background": "light"
          }
        }
      ]
    },
    {
      "cell_type": "code",
      "metadata": {
        "colab": {
          "base_uri": "https://localhost:8080/",
          "height": 278
        },
        "id": "5z2G_SuN2Vtt",
        "outputId": "57092852-26ee-4e1a-eb91-4e4b2797af08"
      },
      "source": [
        "#target\n",
        "\n",
        "datos.loc[datos.episodio.notnull(),'episodio'] = 1;\n",
        "datos[\"episodio\"] = datos[\"episodio\"].replace(np.nan,0);\n",
        "datos[\"episodio\"] = datos[\"episodio\"].astype(int)\n",
        "\n",
        "plot= datos['episodio'].value_counts().plot(kind='bar',title=\"episodio\");\n",
        "plt.show(plot)\n",
        "\n"
      ],
      "execution_count": null,
      "outputs": [
        {
          "output_type": "display_data",
          "data": {
            "image/png": "[encoded data removed]",
            "text/plain": [
              "<Figure size 432x288 with 1 Axes>"
            ]
          },
          "metadata": {
            "tags": [],
            "needs_background": "light"
          }
        }
      ]
    },
    {
      "cell_type": "code",
      "metadata": {
        "colab": {
          "base_uri": "https://localhost:8080/",
          "height": 278
        },
        "id": "3wvATB_X2W-I",
        "outputId": "0d9cf81e-28f7-408b-af42-c3edb8d83073"
      },
      "source": [
        "datos.loc[datos.aseguradora.notnull(),'aseguradora'] = 1;\n",
        "datos[\"aseguradora\"] = datos[\"aseguradora\"].replace(np.nan,0);\n",
        "datos[\"aseguradora\"] = datos[\"aseguradora\"].astype(int)\n",
        "\n",
        "plot= datos['aseguradora'].value_counts().plot(kind='bar',title=\"aseguradora\");\n",
        "plt.show(plot)"
      ],
      "execution_count": null,
      "outputs": [
        {
          "output_type": "display_data",
          "data": {
            "image/png": "[encoded data removed]",
            "text/plain": [
              "<Figure size 432x288 with 1 Axes>"
            ]
          },
          "metadata": {
            "tags": [],
            "needs_background": "light"
          }
        }
      ]
    },
    {
      "cell_type": "code",
      "metadata": {
        "colab": {
          "base_uri": "https://localhost:8080/",
          "height": 278
        },
        "id": "hhUEG-3P2YLO",
        "outputId": "136a5edb-4928-4d26-b7a5-018da2bbe1fa"
      },
      "source": [
        "datos['intervencionAseguradora']=datos['anulado'].astype(str)+datos['aseguradora'].astype(str)\n",
        "datos.loc[(datos.intervencionAseguradora=='00') ,'intervencionAseguradora']=0;\n",
        "datos.loc[(datos.intervencionAseguradora=='10') ,'intervencionAseguradora']=0;\n",
        "datos.loc[(datos.intervencionAseguradora=='01') ,'intervencionAseguradora']=1;\n",
        "datos.loc[(datos.intervencionAseguradora=='11') ,'intervencionAseguradora']=2;\n",
        "datos['intervencionAseguradora']=datos['intervencionAseguradora'].astype(int)\n",
        "plot= datos['intervencionAseguradora'].value_counts().plot(kind='bar',title=\"intervencionAseguradora\");\n",
        "plt.show(plot)\n"
      ],
      "execution_count": null,
      "outputs": [
        {
          "output_type": "display_data",
          "data": {
            "image/png": "[encoded data removed]",
            "text/plain": [
              "<Figure size 432x288 with 1 Axes>"
            ]
          },
          "metadata": {
            "tags": [],
            "needs_background": "light"
          }
        }
      ]
    },
    {
      "cell_type": "code",
      "metadata": {
        "id": "sXqvaEVe4yQJ"
      },
      "source": [
        "#usar distrito como variable cualitativa\n",
        "\n",
        "datos['distrito'] = pd.factorize(datos['distrito'])[0]\n"
      ],
      "execution_count": null,
      "outputs": []
    },
    {
      "cell_type": "code",
      "metadata": {
        "id": "V-xwDnPXFbHV",
        "colab": {
          "base_uri": "https://localhost:8080/",
          "height": 284
        },
        "outputId": "951cd34f-b41e-4774-9ee1-41099f9e9ba5"
      },
      "source": [
        "#usar duracion como variable cualitativa\n",
        "datos['duracion'] = pd.factorize(datos['duracion'])[0]\n",
        "plot= datos['duracion'].value_counts().plot(kind='bar',title=\"duracion\");\n",
        "plt.show(plot)"
      ],
      "execution_count": null,
      "outputs": [
        {
          "output_type": "display_data",
          "data": {
            "image/png": "[encoded data removed]",
            "text/plain": [
              "<Figure size 432x288 with 1 Axes>"
            ]
          },
          "metadata": {
            "tags": [],
            "needs_background": "light"
          }
        }
      ]
    },
    {
      "cell_type": "code",
      "metadata": {
        "id": "BMeMbDER9Sui",
        "colab": {
          "base_uri": "https://localhost:8080/",
          "height": 290
        },
        "outputId": "9971ea80-915b-4f33-d997-0ab0f1f3c9c1"
      },
      "source": [
        "#usar especialidad como variable cualitativa\n",
        "\n",
        "datos['especialidad'] = pd.factorize(datos['especialidad'])[0]\n",
        "plot= datos['especialidad'].value_counts().plot(kind='bar',title=\"especialidad\");\n",
        "plt.show(plot)"
      ],
      "execution_count": null,
      "outputs": [
        {
          "output_type": "display_data",
          "data": {
            "image/png": "[encoded data removed]",
            "text/plain": [
              "<Figure size 432x288 with 1 Axes>"
            ]
          },
          "metadata": {
            "tags": [],
            "needs_background": "light"
          }
        }
      ]
    },
    {
      "cell_type": "code",
      "metadata": {
        "colab": {
          "base_uri": "https://localhost:8080/",
          "height": 407
        },
        "id": "0VKwglF10dKX",
        "outputId": "dd2d8e73-453d-4a0d-ac28-639007ab6f65"
      },
      "source": [
        "datos2 = datos.drop(['f_agenda', 'h_agenda','f_creacion','f_modificacion','f_anul','h_anul', 'f_nacimiento','uo',\"medico\",\"u_modificacion\",\"asignenf\",\"poblacion\",\"direccion\",\"paciente\",\"rut\",\"mot_anul\",\"u_creacion\"], axis=1) #Eliminar columnas correlacionales a global_sales\n",
        "datos2"
      ],
      "execution_count": null,
      "outputs": [
        {
          "output_type": "execute_result",
          "data": {
            "text/html": [
              "<div>\n",
              "<style scoped>\n",
              "    .dataframe tbody tr th:only-of-type {\n",
              "        vertical-align: middle;\n",
              "    }\n",
              "\n",
              "    .dataframe tbody tr th {\n",
              "        vertical-align: top;\n",
              "    }\n",
              "\n",
              "    .dataframe thead th {\n",
              "        text-align: right;\n",
              "    }\n",
              "</style>\n",
              "<table border=\"1\" class=\"dataframe\">\n",
              "  <thead>\n",
              "    <tr style=\"text-align: right;\">\n",
              "      <th></th>\n",
              "      <th>duracion</th>\n",
              "      <th>especialidad</th>\n",
              "      <th>episodio</th>\n",
              "      <th>anulado</th>\n",
              "      <th>distrito</th>\n",
              "      <th>sexo</th>\n",
              "      <th>aseguradora</th>\n",
              "      <th>deltaCreacionAgenda</th>\n",
              "      <th>diaSemanaAgendamiento</th>\n",
              "      <th>horaAgendamiento</th>\n",
              "      <th>intervencionAseguradora</th>\n",
              "    </tr>\n",
              "  </thead>\n",
              "  <tbody>\n",
              "    <tr>\n",
              "      <th>0</th>\n",
              "      <td>0</td>\n",
              "      <td>0</td>\n",
              "      <td>0</td>\n",
              "      <td>0</td>\n",
              "      <td>-1</td>\n",
              "      <td>0</td>\n",
              "      <td>0</td>\n",
              "      <td>1</td>\n",
              "      <td>3</td>\n",
              "      <td>0</td>\n",
              "      <td>0</td>\n",
              "    </tr>\n",
              "    <tr>\n",
              "      <th>1</th>\n",
              "      <td>1</td>\n",
              "      <td>1</td>\n",
              "      <td>1</td>\n",
              "      <td>0</td>\n",
              "      <td>0</td>\n",
              "      <td>1</td>\n",
              "      <td>1</td>\n",
              "      <td>1</td>\n",
              "      <td>1</td>\n",
              "      <td>0</td>\n",
              "      <td>1</td>\n",
              "    </tr>\n",
              "    <tr>\n",
              "      <th>2</th>\n",
              "      <td>0</td>\n",
              "      <td>2</td>\n",
              "      <td>0</td>\n",
              "      <td>1</td>\n",
              "      <td>1</td>\n",
              "      <td>1</td>\n",
              "      <td>0</td>\n",
              "      <td>122</td>\n",
              "      <td>0</td>\n",
              "      <td>1</td>\n",
              "      <td>0</td>\n",
              "    </tr>\n",
              "    <tr>\n",
              "      <th>3</th>\n",
              "      <td>0</td>\n",
              "      <td>2</td>\n",
              "      <td>0</td>\n",
              "      <td>1</td>\n",
              "      <td>1</td>\n",
              "      <td>1</td>\n",
              "      <td>0</td>\n",
              "      <td>184</td>\n",
              "      <td>1</td>\n",
              "      <td>1</td>\n",
              "      <td>0</td>\n",
              "    </tr>\n",
              "    <tr>\n",
              "      <th>4</th>\n",
              "      <td>0</td>\n",
              "      <td>2</td>\n",
              "      <td>1</td>\n",
              "      <td>0</td>\n",
              "      <td>1</td>\n",
              "      <td>1</td>\n",
              "      <td>1</td>\n",
              "      <td>153</td>\n",
              "      <td>3</td>\n",
              "      <td>2</td>\n",
              "      <td>1</td>\n",
              "    </tr>\n",
              "    <tr>\n",
              "      <th>...</th>\n",
              "      <td>...</td>\n",
              "      <td>...</td>\n",
              "      <td>...</td>\n",
              "      <td>...</td>\n",
              "      <td>...</td>\n",
              "      <td>...</td>\n",
              "      <td>...</td>\n",
              "      <td>...</td>\n",
              "      <td>...</td>\n",
              "      <td>...</td>\n",
              "      <td>...</td>\n",
              "    </tr>\n",
              "    <tr>\n",
              "      <th>594406</th>\n",
              "      <td>0</td>\n",
              "      <td>2</td>\n",
              "      <td>1</td>\n",
              "      <td>0</td>\n",
              "      <td>8</td>\n",
              "      <td>2</td>\n",
              "      <td>1</td>\n",
              "      <td>1</td>\n",
              "      <td>2</td>\n",
              "      <td>10</td>\n",
              "      <td>1</td>\n",
              "    </tr>\n",
              "    <tr>\n",
              "      <th>594407</th>\n",
              "      <td>0</td>\n",
              "      <td>18</td>\n",
              "      <td>1</td>\n",
              "      <td>0</td>\n",
              "      <td>38</td>\n",
              "      <td>1</td>\n",
              "      <td>0</td>\n",
              "      <td>61</td>\n",
              "      <td>6</td>\n",
              "      <td>0</td>\n",
              "      <td>0</td>\n",
              "    </tr>\n",
              "    <tr>\n",
              "      <th>594408</th>\n",
              "      <td>0</td>\n",
              "      <td>53</td>\n",
              "      <td>1</td>\n",
              "      <td>0</td>\n",
              "      <td>38</td>\n",
              "      <td>1</td>\n",
              "      <td>0</td>\n",
              "      <td>31</td>\n",
              "      <td>2</td>\n",
              "      <td>0</td>\n",
              "      <td>0</td>\n",
              "    </tr>\n",
              "    <tr>\n",
              "      <th>594410</th>\n",
              "      <td>8</td>\n",
              "      <td>53</td>\n",
              "      <td>1</td>\n",
              "      <td>0</td>\n",
              "      <td>38</td>\n",
              "      <td>1</td>\n",
              "      <td>0</td>\n",
              "      <td>14</td>\n",
              "      <td>2</td>\n",
              "      <td>3</td>\n",
              "      <td>0</td>\n",
              "    </tr>\n",
              "    <tr>\n",
              "      <th>594411</th>\n",
              "      <td>0</td>\n",
              "      <td>8</td>\n",
              "      <td>1</td>\n",
              "      <td>0</td>\n",
              "      <td>8</td>\n",
              "      <td>2</td>\n",
              "      <td>0</td>\n",
              "      <td>189</td>\n",
              "      <td>4</td>\n",
              "      <td>2</td>\n",
              "      <td>0</td>\n",
              "    </tr>\n",
              "  </tbody>\n",
              "</table>\n",
              "<p>483165 rows × 11 columns</p>\n",
              "</div>"
            ],
            "text/plain": [
              "        duracion  especialidad  ...  horaAgendamiento  intervencionAseguradora\n",
              "0              0             0  ...                 0                        0\n",
              "1              1             1  ...                 0                        1\n",
              "2              0             2  ...                 1                        0\n",
              "3              0             2  ...                 1                        0\n",
              "4              0             2  ...                 2                        1\n",
              "...          ...           ...  ...               ...                      ...\n",
              "594406         0             2  ...                10                        1\n",
              "594407         0            18  ...                 0                        0\n",
              "594408         0            53  ...                 0                        0\n",
              "594410         8            53  ...                 3                        0\n",
              "594411         0             8  ...                 2                        0\n",
              "\n",
              "[483165 rows x 11 columns]"
            ]
          },
          "metadata": {
            "tags": []
          },
          "execution_count": 16
        }
      ]
    }
  ]
}